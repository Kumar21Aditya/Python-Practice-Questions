{
 "cells": [
  {
   "cell_type": "raw",
   "id": "a1145163-f31a-4403-adaf-e1653ccc7278",
   "metadata": {},
   "source": [
    "1. Write program , when we will enter the number of days then we will get the out put as number of years , months and days . Ex - 100 days output - 0 years 2 months and 10 days"
   ]
  },
  {
   "cell_type": "code",
   "execution_count": 6,
   "id": "c518d58f-1aa4-4bbe-aaa6-d37b8e061c9e",
   "metadata": {},
   "outputs": [
    {
     "data": {
      "text/plain": [
       "'ther are 2 years and 8 months and 29 days'"
      ]
     },
     "execution_count": 6,
     "metadata": {},
     "output_type": "execute_result"
    }
   ],
   "source": [
    "def count(days):\n",
    "    year=days//365\n",
    "    month=(days%365)//30\n",
    "    day=days-((year*365)+(month*30))\n",
    "    return f\"ther are {year} years and {month} months and {day} days\"\n",
    "\n",
    "count(999)"
   ]
  },
  {
   "cell_type": "raw",
   "id": "3cba8f76-5d1d-4243-8cd2-65f63ae89678",
   "metadata": {},
   "source": [
    "2.  write a program in which we will calculate using 4 different operators and 4 different variables and  calculate 4 different operations performed one by one at a time ."
   ]
  },
  {
   "cell_type": "code",
   "execution_count": 2,
   "id": "209d3b68-2b4b-451f-bace-f62c97df1c41",
   "metadata": {},
   "outputs": [
    {
     "name": "stdout",
     "output_type": "stream",
     "text": [
      "Choose 1.Addition 2. Subtraction 3.Multiplication 4.Quit\n"
     ]
    },
    {
     "name": "stdin",
     "output_type": "stream",
     "text": [
      " 1\n",
      "enter an integer :  56\n",
      "enter an integer :  57\n"
     ]
    },
    {
     "name": "stdout",
     "output_type": "stream",
     "text": [
      "result 113\n",
      "Choose 1.Addition 2. Subtraction 3.Multiplication 4.Quit\n"
     ]
    },
    {
     "name": "stdin",
     "output_type": "stream",
     "text": [
      " 4\n"
     ]
    },
    {
     "name": "stdout",
     "output_type": "stream",
     "text": [
      "Exiting program...\n"
     ]
    }
   ],
   "source": [
    "def add():\n",
    "    add = int(input(\"enter an integer : \")) + int(input(\"enter an integer : \"))\n",
    "    return add\n",
    "def diff():\n",
    "    sub = int(input(\"enter an integer : \")) - int(input(\"enter an integer : \"))\n",
    "    return sub\n",
    "def mul():\n",
    "    mul = int(input(\"enter an integer : \")) * int(input(\"enter an integer : \"))\n",
    "    return mul\n",
    "while True:\n",
    "    print(\"Choose 1.Addition 2. Subtraction 3.Multiplication 4.Quit\")\n",
    "    choice = int(input())\n",
    "    if choice == 1 :\n",
    "        print(\"result\", add())\n",
    "    elif choice == 2:\n",
    "        print(\"result\",diff())\n",
    "    elif choice == 3:\n",
    "        print(\"result\",mul())\n",
    "    elif choice == 4:\n",
    "        print(\"Exiting program...\")\n",
    "        break\n",
    "    else:\n",
    "        print(\"Enter the correct operator\")"
   ]
  },
  {
   "cell_type": "code",
   "execution_count": null,
   "id": "7bd4020e-8313-4b3b-b850-9ee37f299562",
   "metadata": {},
   "outputs": [],
   "source": []
  },
  {
   "cell_type": "raw",
   "id": "bf4d5b07-e993-4460-ade3-e4de3a7902eb",
   "metadata": {},
   "source": [
    "3. write a program , where we will enter password , if that password is wrong it will again ask to enter password and this will contiuous until correct password is enetered"
   ]
  },
  {
   "cell_type": "code",
   "execution_count": 3,
   "id": "efecd26e-5fc8-4826-9eba-042f4b03650a",
   "metadata": {},
   "outputs": [
    {
     "data": {
      "text/plain": [
       "4.333333333333333"
      ]
     },
     "execution_count": 3,
     "metadata": {},
     "output_type": "execute_result"
    }
   ],
   "source": [
    "4+5-6*7/9"
   ]
  },
  {
   "cell_type": "code",
   "execution_count": 4,
   "id": "5c755741-219f-4ca6-a74c-3ea3dcaa4617",
   "metadata": {},
   "outputs": [
    {
     "name": "stdin",
     "output_type": "stream",
     "text": [
      "enter value of a 6\n",
      "enter operand +\n",
      "enter value 9\n",
      "enter operand +\n",
      "enter value 8\n",
      "enter operand -\n",
      "enter value 0\n"
     ]
    },
    {
     "name": "stdout",
     "output_type": "stream",
     "text": [
      "23\n"
     ]
    }
   ],
   "source": [
    "a=int(input(\"enter value of a\"))\n",
    "for i in range(1,4):\n",
    "    op=input(\"enter operand\")\n",
    "    b=int(input(\"enter value\"))\n",
    "    if op==\"+\":\n",
    "        c=a+b\n",
    "    elif op==\"-\":\n",
    "        c=a-b\n",
    "    elif op==\"*\":\n",
    "        c=a*b\n",
    "    elif op==\"/\":\n",
    "        c=a/b\n",
    "    else:\n",
    "        print(\"enter valid operator\")\n",
    "    a=c\n",
    "\n",
    "print(a)\n",
    "        \n",
    "    "
   ]
  },
  {
   "cell_type": "code",
   "execution_count": 10,
   "id": "3d581a0f-6abf-4e6d-a518-15a7bfb68c3c",
   "metadata": {},
   "outputs": [
    {
     "name": "stdin",
     "output_type": "stream",
     "text": [
      "Enter the value of a:  8\n",
      "Enter the value of b:  9\n",
      "Enter the value of c:  9\n",
      "Enter the value of d:  0\n",
      "Enter an operator (+, -, *, /):  -\n",
      "Enter an operator (+, -, *, /):  -\n",
      "Enter an operator (+, -, *, /):  -\n"
     ]
    },
    {
     "name": "stdout",
     "output_type": "stream",
     "text": [
      "Result of 8.0 - 9.0 - 9.0 - 0.0 is: -10.0\n"
     ]
    }
   ],
   "source": [
    "# Input values for the variables\n",
    "a = float(input(\"Enter the value of a: \"))\n",
    "b = float(input(\"Enter the value of b: \"))\n",
    "c = float(input(\"Enter the value of c: \"))\n",
    "d = float(input(\"Enter the value of d: \"))\n",
    "\n",
    "# Input values for the operators\n",
    "operators = []\n",
    "for i in range(3):\n",
    "    operator = input(\"Enter an operator (+, -, *, /): \")\n",
    "    operators.append(operator)\n",
    "\n",
    "# Perform calculations\n",
    "result1 = eval(f\"a {operators[0]} b\")\n",
    "result2 = eval(f\"result1 {operators[1]} c\")\n",
    "result3 = eval(f\"result2 {operators[2]} d\")\n",
    "\n",
    "# Print the results\n",
    "print(f\"Result of {a} {operators[0]} {b} {operators[1]} {c} {operators[2]} {d} is: {result3}\")\n"
   ]
  },
  {
   "cell_type": "code",
   "execution_count": 9,
   "id": "d95dd561-ea19-4671-ba5d-6f2b941ee5fc",
   "metadata": {},
   "outputs": [
    {
     "name": "stdin",
     "output_type": "stream",
     "text": [
      "enter the password ghu\n"
     ]
    },
    {
     "name": "stdout",
     "output_type": "stream",
     "text": [
      "enter valid code\n"
     ]
    },
    {
     "name": "stdin",
     "output_type": "stream",
     "text": [
      "enter the password afity\n"
     ]
    },
    {
     "name": "stdout",
     "output_type": "stream",
     "text": [
      "enter valid code\n"
     ]
    },
    {
     "name": "stdin",
     "output_type": "stream",
     "text": [
      "enter the password aditya\n"
     ]
    },
    {
     "name": "stdout",
     "output_type": "stream",
     "text": [
      "valid code\n"
     ]
    }
   ],
   "source": [
    "passc=\"aditya\"\n",
    "while True:\n",
    "    password=input(\"enter the password\")\n",
    "    if passc==password:\n",
    "        print(\"valid code\")\n",
    "        break\n",
    "    else:\n",
    "        print(\"enter valid code\")"
   ]
  },
  {
   "cell_type": "code",
   "execution_count": null,
   "id": "2b7f3b00-88c6-4f4f-a1d6-c1c344e7c9e4",
   "metadata": {},
   "outputs": [],
   "source": []
  },
  {
   "cell_type": "raw",
   "id": "5f2dbe8f-d550-4d9a-845a-b1624a00f4d7",
   "metadata": {},
   "source": [
    "21. Write a Python program that determines whether a given number (accepted from the user) is even or odd, and prints an appropriate message to the user."
   ]
  },
  {
   "cell_type": "code",
   "execution_count": 7,
   "id": "a28a56cb-caaf-4528-a96b-716ca8408c1b",
   "metadata": {},
   "outputs": [
    {
     "name": "stdin",
     "output_type": "stream",
     "text": [
      "Enter a number:  56\n"
     ]
    },
    {
     "name": "stdout",
     "output_type": "stream",
     "text": [
      "This is an even number.\n"
     ]
    }
   ],
   "source": [
    "# Prompt the user to enter a number and convert the input to an integer\n",
    "num = int(input(\"Enter a number: \"))\n",
    "mod = num % 2\n",
    "if mod > 0:\n",
    "    # Print a message indicating that the number is odd\n",
    "    print(\"This is an odd number.\")\n",
    "else:\n",
    "    # Print a message indicating that the number is even\n",
    "    print(\"This is an even number.\")\n"
   ]
  },
  {
   "cell_type": "code",
   "execution_count": null,
   "id": "a3fc5c48-fe49-47f3-bd71-6a1951cef810",
   "metadata": {},
   "outputs": [],
   "source": []
  },
  {
   "cell_type": "raw",
   "id": "162a7c6c-f34d-40d1-a62f-6a7b309e1916",
   "metadata": {},
   "source": [
    "22. Write a Python program to count the number 4 in a given list"
   ]
  },
  {
   "cell_type": "code",
   "execution_count": 8,
   "id": "532824f3-f094-48d1-92ce-253649e07552",
   "metadata": {},
   "outputs": [
    {
     "name": "stdout",
     "output_type": "stream",
     "text": [
      "6\n"
     ]
    }
   ],
   "source": [
    "lst=[4,5,2,3,4,5,4,4,5,4,4,8,9,0]\n",
    "count=0\n",
    "for i in lst:\n",
    "    if i==4:\n",
    "        count=count+1\n",
    "print(count)\n",
    "    "
   ]
  },
  {
   "cell_type": "code",
   "execution_count": null,
   "id": "20d52fda-07aa-41ef-9064-3548f77dcd60",
   "metadata": {},
   "outputs": [],
   "source": []
  },
  {
   "cell_type": "raw",
   "id": "4e6b6544-e740-4b44-9aa2-3edffad92b05",
   "metadata": {},
   "source": [
    "23. Write a Python program to get n (non-negative integer) copies of the first 2 characters of a given string. Return n copies of the whole string if the length is less than 2."
   ]
  },
  {
   "cell_type": "code",
   "execution_count": 15,
   "id": "fe2462f3-2970-40e0-8b9a-3503eb683dc8",
   "metadata": {},
   "outputs": [
    {
     "name": "stdin",
     "output_type": "stream",
     "text": [
      "enter the string aditya\n"
     ]
    },
    {
     "name": "stdout",
     "output_type": "stream",
     "text": [
      "ad\n",
      "2\n",
      "adad\n"
     ]
    }
   ],
   "source": [
    "def prb1():\n",
    "    st=input(\"enter the string\")\n",
    "    n=2\n",
    "    x=st[0:n]\n",
    "    print(x)\n",
    "    lgt=len(x)\n",
    "    if lgt<=2:\n",
    "        print(x+x)\n",
    "    else:\n",
    "        print(x)\n",
    "prb1()        \n",
    "        "
   ]
  },
  {
   "cell_type": "code",
   "execution_count": null,
   "id": "38534493-73d1-40ca-811e-594bbe240207",
   "metadata": {},
   "outputs": [],
   "source": []
  },
  {
   "cell_type": "raw",
   "id": "19920d03-f654-493b-8d8d-f90db3199860",
   "metadata": {},
   "source": [
    "24. Write a Python program to test whether a passed letter is a vowel or not."
   ]
  },
  {
   "cell_type": "code",
   "execution_count": 17,
   "id": "3b0ebe98-1ce1-47cc-a029-18e6006f35cc",
   "metadata": {},
   "outputs": [
    {
     "name": "stdin",
     "output_type": "stream",
     "text": [
      "enter the letter a\n"
     ]
    },
    {
     "name": "stdout",
     "output_type": "stream",
     "text": [
      "not a vowel\n",
      "not a vowel\n",
      "not a vowel\n",
      "not a vowel\n",
      "not a vowel\n",
      "not a vowel\n",
      "not a vowel\n",
      "not a vowel\n",
      "not a vowel\n",
      "not a vowel\n"
     ]
    }
   ],
   "source": [
    "x=[\"a\",\"e\",\"i\",\"o\",\"u\",\"A\",\"E\",\"I\",\"O\",\"U\"]\n",
    "value=input(\"enter the letter\")\n",
    "for value in x:\n",
    "    if value==x:\n",
    "        print(\"yes it is a vowel\")\n",
    "    else:\n",
    "        print(\"not a vowel\")"
   ]
  },
  {
   "cell_type": "code",
   "execution_count": 18,
   "id": "2d584176-ccac-4e62-9040-4a16694ab825",
   "metadata": {},
   "outputs": [
    {
     "name": "stdin",
     "output_type": "stream",
     "text": [
      "enter the letter e\n"
     ]
    },
    {
     "name": "stdout",
     "output_type": "stream",
     "text": [
      "is vowel\n"
     ]
    }
   ],
   "source": [
    "x=[\"a\",\"e\",\"i\",\"o\",\"u\",\"A\",\"E\",\"I\",\"O\",\"U\"]\n",
    "value=input(\"enter the letter\")\n",
    "if value in x:\n",
    "    print(\"is vowel\")\n",
    "else:\n",
    "    print(\"not vowel\")"
   ]
  },
  {
   "cell_type": "code",
   "execution_count": null,
   "id": "02630048-996c-4c31-9c9b-6d394ea7625b",
   "metadata": {},
   "outputs": [],
   "source": []
  },
  {
   "cell_type": "raw",
   "id": "7aeb7244-22e4-4ff3-ab09-7bb23d052394",
   "metadata": {},
   "source": [
    "25. Write a Python program that checks whether a specified value is contained within a group of values.\n",
    "Test Data :\n",
    "3 -> [1, 5, 8, 3] : True\n",
    "-1 -> [1, 5, 8, 3] : False"
   ]
  },
  {
   "cell_type": "code",
   "execution_count": 19,
   "id": "323ffe1d-b726-40f0-b1c7-328dd109b6f7",
   "metadata": {},
   "outputs": [
    {
     "name": "stdout",
     "output_type": "stream",
     "text": [
      "True\n",
      "False\n"
     ]
    }
   ],
   "source": [
    "# Define a function called is_group_member that takes two parameters: group_data (a list) and n (an integer).\n",
    "def is_group_member(group_data, n):\n",
    "    # Iterate through the elements (values) in the group_data list.\n",
    "    for value in group_data:\n",
    "        # Check if the current value is equal to the given integer, n.\n",
    "        if n == value:\n",
    "            return True  # If found, return True.\n",
    "    return False  # If the loop completes and no match is found, return False.\n",
    "\n",
    "# Call the is_group_member function with two different lists and integers, and print the results.\n",
    "print(is_group_member([1, 5, 8, 3], 3))  # Output: True (3 is in the list)\n",
    "print(is_group_member([5, 8, 3], -1))    # Output: False (-1 is not in the list)\n"
   ]
  },
  {
   "cell_type": "code",
   "execution_count": null,
   "id": "16a4eb84-ec23-4e4f-bcc3-dc9194ac9214",
   "metadata": {},
   "outputs": [],
   "source": []
  },
  {
   "cell_type": "raw",
   "id": "c4cb0dd9-6051-41b7-965a-1fd024c22b41",
   "metadata": {},
   "source": [
    "26. Write a Python program to create a histogram from a given list of integers"
   ]
  },
  {
   "cell_type": "code",
   "execution_count": 21,
   "id": "678abd45-f769-4034-bcc6-6e0a3408cd9f",
   "metadata": {},
   "outputs": [
    {
     "name": "stdout",
     "output_type": "stream",
     "text": [
      "@\n",
      "@@@\n",
      "@@@@@\n",
      "@@@@@@\n",
      "@\n"
     ]
    }
   ],
   "source": [
    "def hist(lst):\n",
    "    for i in lst:\n",
    "        x=i\n",
    "        print(\"@\"*x)\n",
    "\n",
    "hist([1,3,5,6,1])"
   ]
  },
  {
   "cell_type": "raw",
   "id": "df85ee3d-e727-40cb-bd76-239f195a1eb6",
   "metadata": {},
   "source": []
  },
  {
   "cell_type": "raw",
   "id": "174b11ea-f1c2-49b1-9295-c33db87b8c43",
   "metadata": {},
   "source": [
    "27. Write a Python program that concatenates all elements in a list into a string and returns it."
   ]
  },
  {
   "cell_type": "code",
   "execution_count": 4,
   "id": "595fa9bc-391e-487d-b782-80724648f2c1",
   "metadata": {},
   "outputs": [
    {
     "name": "stdout",
     "output_type": "stream",
     "text": [
      " kumar Aditya Is a Good Boy\n"
     ]
    }
   ],
   "source": [
    "list=[\"kumar\",\"Aditya\",\"Is\",\"a\",\"Good\",\"Boy\"]\n",
    "word=\"\"\n",
    "for i in list:\n",
    "    x=i\n",
    "    word=word+\" \"+x\n",
    "\n",
    "print(word)"
   ]
  },
  {
   "cell_type": "code",
   "execution_count": null,
   "id": "4f4ec141-704c-4695-aa13-bd85f470bf2e",
   "metadata": {},
   "outputs": [],
   "source": []
  },
  {
   "cell_type": "raw",
   "id": "6bf5ecb8-dafc-448e-a93c-502b7c478530",
   "metadata": {},
   "source": [
    "28. Write a Python program to print all even numbers from a given list of numbers in the same order and stop printing any after 237 in the sequence.\n",
    "Sample numbers list :\n",
    "\n",
    "numbers = [    \n",
    "    386, 462, 47, 418, 907, 344, 236, 375, 823, 566, 597, 978, 328, 615, 953, 345, \n",
    "    399, 162, 758, 219, 918, 237, 412, 566, 826, 248, 866, 950, 626, 949, 687, 217, \n",
    "    815, 67, 104, 58, 512, 24, 892, 894, 767, 553, 81, 379, 843, 831, 445, 742, 717, \n",
    "    958,743, 527\n",
    "    ]"
   ]
  },
  {
   "cell_type": "code",
   "execution_count": 11,
   "id": "668d4db6-b369-4c30-a4f7-84a30037cd75",
   "metadata": {},
   "outputs": [
    {
     "name": "stdout",
     "output_type": "stream",
     "text": [
      "[386, 462, 418, 344, 236, 566, 978, 328, 162, 758, 918]\n"
     ]
    }
   ],
   "source": [
    "\n",
    "lst=[]\n",
    "def even(numbers):\n",
    "    for i in numbers:\n",
    "        if i==237:\n",
    "            break\n",
    "        elif i%2==0:\n",
    "            lst.append(i)\n",
    "            \n",
    "\n",
    "    \n",
    "even([386, 462, 47, 418, 907, 344, 236, 375, 823, 566, 597, 978, 328, 615, 953, 345, 399, 162, 758, 219, 918, 237, 412, 566, 826, 248, 866, 950, 626, 949, 687, 217, 815, 67, 104, 58, 512, 24, 892, 894, 767, 553, 81, 379, 843, 831, 445, 742, 717,  958,743, 527])\n",
    "print(lst)"
   ]
  },
  {
   "cell_type": "code",
   "execution_count": null,
   "id": "9e02e0c4-ba6b-4217-94c3-7ebea97b97b4",
   "metadata": {},
   "outputs": [],
   "source": []
  },
  {
   "cell_type": "raw",
   "id": "c81b06bd-03d9-4bce-b3c9-13ecb0c15e49",
   "metadata": {},
   "source": [
    "Write a Python program that prints out all colors from color_list_1 that are not present in color_list_2.\n",
    "\n",
    "Test Data:\n",
    "color_list_1 = set([\"White\", \"Black\", \"Red\"])\n",
    "color_list_2 = set([\"Red\", \"Green\"])\n",
    "Expected Output :\n",
    "{'Black', 'White'}"
   ]
  },
  {
   "cell_type": "code",
   "execution_count": 12,
   "id": "1b774031-7f16-430b-8e68-ccd89802b834",
   "metadata": {},
   "outputs": [
    {
     "name": "stdout",
     "output_type": "stream",
     "text": [
      "{'White', 'Black'}\n"
     ]
    }
   ],
   "source": [
    "color_list_1 = set([\"White\", \"Black\", \"Red\"])\n",
    "color_list_2 = set([\"Red\", \"Green\"])\n",
    "print(color_list_1.difference(color_list_2))"
   ]
  },
  {
   "cell_type": "code",
   "execution_count": null,
   "id": "9b1c8d8b-ec70-4edd-9711-924685b80547",
   "metadata": {},
   "outputs": [],
   "source": []
  },
  {
   "cell_type": "raw",
   "id": "103d84c8-9e1e-4f8b-9264-a4139ffd6668",
   "metadata": {},
   "source": [
    "30. Write a Python program that will accept the base and height of a triangle and compute its area."
   ]
  },
  {
   "cell_type": "code",
   "execution_count": 13,
   "id": "3fef0ac9-a80e-40a5-9947-49bcb015ba42",
   "metadata": {},
   "outputs": [
    {
     "name": "stdin",
     "output_type": "stream",
     "text": [
      "Input the base :  3\n",
      "Input the height :  4\n"
     ]
    },
    {
     "name": "stdout",
     "output_type": "stream",
     "text": [
      "area =  6.0\n"
     ]
    }
   ],
   "source": [
    "# Prompt the user to input the base and height of a triangle as integers.\n",
    "b = int(input(\"Input the base : \"))\n",
    "h = int(input(\"Input the height : \"))\n",
    "# Calculate the area of the triangle using the formula: (base * height) / 2.\n",
    "area = b * h / 2\n",
    "# Print the calculated area of the triangle.\n",
    "print(\"area = \", area)\n"
   ]
  },
  {
   "cell_type": "code",
   "execution_count": null,
   "id": "96efd9b8-035c-4df2-a420-2bfb35ff4b10",
   "metadata": {},
   "outputs": [],
   "source": []
  },
  {
   "cell_type": "raw",
   "id": "8a4417ad-20a2-4e51-8246-2edd3ac7939f",
   "metadata": {},
   "source": [
    "31. Write a Python program that computes the greatest common divisor (GCD) of two positive integers."
   ]
  },
  {
   "cell_type": "code",
   "execution_count": 2,
   "id": "63c3a6d6-3db2-4d1d-a75c-c8f6b8e24588",
   "metadata": {},
   "outputs": [
    {
     "data": {
      "text/plain": [
       "4"
      ]
     },
     "execution_count": 2,
     "metadata": {},
     "output_type": "execute_result"
    }
   ],
   "source": [
    "lst1=[]\n",
    "lst2=[]\n",
    "def gcd(x,y):\n",
    "    for i in range(1,x+1):\n",
    "        if x%i==0:\n",
    "            lst1.append(i)\n",
    "    for j in range(1,y+1):\n",
    "        if y%j==0:\n",
    "            lst2.append(j)\n",
    "\n",
    "    gcd=max(set(lst1) & set(lst2))\n",
    "    return gcd\n",
    "\n",
    "gcd(4,8)\n",
    "    "
   ]
  },
  {
   "cell_type": "code",
   "execution_count": 8,
   "id": "a70ad41b-c4b7-4208-aca4-362e7b2affa4",
   "metadata": {},
   "outputs": [
    {
     "name": "stdout",
     "output_type": "stream",
     "text": [
      "{1, 2, 4}\n",
      "{1, 2, 4, 8}\n",
      "{1, 2, 4}\n",
      "{8}\n"
     ]
    }
   ],
   "source": [
    "x=set([1,2,4,8])\n",
    "y=set([1,2,4])\n",
    "print(x & y)\n",
    "print(x.union(y))\n",
    "print(x.intersection(y))\n",
    "print(x.difference(y))"
   ]
  },
  {
   "cell_type": "code",
   "execution_count": null,
   "id": "f8efe31f-dc5a-4912-83e3-3212721c69d8",
   "metadata": {},
   "outputs": [],
   "source": []
  },
  {
   "cell_type": "raw",
   "id": "d976aff9-f801-4da4-9149-a66b7411c523",
   "metadata": {},
   "source": [
    "32. Write a Python program to find the least common multiple (LCM) of two positive integers."
   ]
  },
  {
   "cell_type": "code",
   "execution_count": 11,
   "id": "85c39d44-5827-4e76-b85d-685354a14112",
   "metadata": {},
   "outputs": [
    {
     "data": {
      "text/plain": [
       "48"
      ]
     },
     "execution_count": 11,
     "metadata": {},
     "output_type": "execute_result"
    }
   ],
   "source": [
    "def lcm(x,y):\n",
    "    if x>y:\n",
    "        greater=x\n",
    "    else:\n",
    "        greater=y\n",
    "\n",
    "    while True:\n",
    "        if (greater%x==0) and (greater%y==0):\n",
    "            lcm=greater\n",
    "            break\n",
    "        greater=greater+1\n",
    "    return lcm\n",
    "\n",
    "lcm(12,16)\n"
   ]
  },
  {
   "cell_type": "code",
   "execution_count": null,
   "id": "50a0181d-b109-45a1-a013-8a1d79348c53",
   "metadata": {},
   "outputs": [],
   "source": []
  },
  {
   "cell_type": "raw",
   "id": "2f0bd113-cc3d-4316-aa92-470759616276",
   "metadata": {},
   "source": [
    "33. Write a Python program to sum three given integers. However, if two values are equal, the sum will be zero"
   ]
  },
  {
   "cell_type": "code",
   "execution_count": 12,
   "id": "14995e3e-3807-4c7b-8a9c-8a21e443f73e",
   "metadata": {},
   "outputs": [
    {
     "name": "stdout",
     "output_type": "stream",
     "text": [
      "0\n",
      "0\n",
      "0\n",
      "6\n"
     ]
    }
   ],
   "source": [
    "\n",
    "def sum_three(x, y, z):\n",
    "    if x == y or y == z or x == z:\n",
    "        sum = 0\n",
    "    else:\n",
    "        sum = x + y + z\n",
    "    return sum\n",
    "print(sum_three(2, 1, 2))\n",
    "print(sum_three(3, 2, 2))\n",
    "print(sum_three(2, 2, 2))\n",
    "print(sum_three(1, 2, 3))\n"
   ]
  },
  {
   "cell_type": "code",
   "execution_count": null,
   "id": "c0fd957d-b1f2-4fb2-9737-a80aa72b6e02",
   "metadata": {},
   "outputs": [],
   "source": []
  },
  {
   "cell_type": "raw",
   "id": "984b26ba-efda-43ba-86dc-5efd5b6d8e7b",
   "metadata": {},
   "source": [
    "34. Write a Python program to sum two given integers. However, if the sum is between 15 and 20 it will return 20."
   ]
  },
  {
   "cell_type": "code",
   "execution_count": 15,
   "id": "b8dc9f23-5983-40fa-8551-59c97bca968d",
   "metadata": {},
   "outputs": [
    {
     "name": "stdin",
     "output_type": "stream",
     "text": [
      "enter the number 56\n",
      "enter 2nd number 90\n"
     ]
    },
    {
     "data": {
      "text/plain": [
       "'the result is 146'"
      ]
     },
     "execution_count": 15,
     "metadata": {},
     "output_type": "execute_result"
    }
   ],
   "source": [
    "def sum():\n",
    "    x=int(input(\"enter the number\"))\n",
    "    y=int(input(\"enter 2nd number\"))\n",
    "    res=x+y\n",
    "    if res>=15 and res <= 20:\n",
    "        print(\"20\")\n",
    "    else:\n",
    "        return f\"the result is {res}\"\n",
    "sum()        "
   ]
  },
  {
   "cell_type": "code",
   "execution_count": null,
   "id": "b5e18354-f15a-4b4e-8816-c06685167d57",
   "metadata": {},
   "outputs": [],
   "source": []
  },
  {
   "cell_type": "raw",
   "id": "219435a1-84fe-4f1c-a15e-81b288a43acd",
   "metadata": {},
   "source": [
    "35. Write a Python program that returns true if the two given integer values are equal or their sum or difference is 5."
   ]
  },
  {
   "cell_type": "code",
   "execution_count": 16,
   "id": "7a4c1f15-b04c-4b40-834c-ff84cc717a23",
   "metadata": {},
   "outputs": [
    {
     "name": "stdout",
     "output_type": "stream",
     "text": [
      "True\n",
      "True\n",
      "True\n",
      "False\n",
      "False\n"
     ]
    }
   ],
   "source": [
    "# Define a function 'test_number5' that takes two integer inputs: x and y.\n",
    "def test_number5(x, y):\n",
    "    if x == y or abs(x - y) == 5 or (x + y) == 5:\n",
    "        return True\n",
    "    else:\n",
    "        return False\n",
    "\n",
    "# Test the 'test_number5' function with different sets of input values and print the results.\n",
    "print(test_number5(7, 2))\n",
    "print(test_number5(3, 2))\n",
    "print(test_number5(2, 2))\n",
    "print(test_number5(7, 3))\n",
    "print(test_number5(27, 53))"
   ]
  },
  {
   "cell_type": "code",
   "execution_count": null,
   "id": "b2d3cd41-e9aa-4234-b70a-7af561dd83af",
   "metadata": {},
   "outputs": [],
   "source": []
  },
  {
   "cell_type": "raw",
   "id": "211876a4-2815-4ec7-9e61-e9a29941a490",
   "metadata": {},
   "source": [
    "36. Write a Python program to add two objects if both objects are integers."
   ]
  },
  {
   "cell_type": "code",
   "execution_count": 19,
   "id": "d0c7fc05-37dd-4a67-8927-283bc67abf66",
   "metadata": {},
   "outputs": [
    {
     "data": {
      "text/plain": [
       "6"
      ]
     },
     "execution_count": 19,
     "metadata": {},
     "output_type": "execute_result"
    }
   ],
   "source": [
    "def obj(a,b):\n",
    "    if (isinstance(a,int) & isinstance(b,int)):\n",
    "        return a+b\n",
    "    else:\n",
    "         print(\"invalid\")\n",
    "obj(1,5)        \n",
    "                                         \n",
    "                                         \n",
    "                                         \n",
    "                                         "
   ]
  },
  {
   "cell_type": "code",
   "execution_count": null,
   "id": "b86daab8-4288-4c22-a56a-c7a0cb7583d4",
   "metadata": {},
   "outputs": [],
   "source": []
  },
  {
   "cell_type": "raw",
   "id": "1426b9c4-8e6f-4547-8921-038fa9a1b55a",
   "metadata": {},
   "source": [
    "37. Write a Python program that displays your name, age, and address on three different lines."
   ]
  },
  {
   "cell_type": "code",
   "execution_count": 20,
   "id": "254370bf-70e4-4cdf-b75d-a0076891223c",
   "metadata": {},
   "outputs": [
    {
     "name": "stdout",
     "output_type": "stream",
     "text": [
      "Name: Simon\n",
      "Age: 19\n",
      "Address: Bangalore, Karnataka, India\n"
     ]
    }
   ],
   "source": [
    "# Define a function 'personal_details'.\n",
    "def personal_details():\n",
    "    # Define variables 'name' and 'age' and assign values to them.\n",
    "    name, age = \"Simon\", 19\n",
    "    # Define a variable 'address' and assign a value to it.\n",
    "    address = \"Bangalore, Karnataka, India\"\n",
    "    # Print the personal details using string formatting.\n",
    "    print(\"Name: {}\\nAge: {}\\nAddress: {}\".format(name, age, address))\n",
    "\n",
    "# Call the 'personal_details' function to display the details.\n",
    "personal_details()\n"
   ]
  },
  {
   "cell_type": "code",
   "execution_count": null,
   "id": "043adff8-77b7-444d-bdd1-4789da0e6f40",
   "metadata": {},
   "outputs": [],
   "source": []
  },
  {
   "cell_type": "raw",
   "id": "f4d3f6b6-ca7f-4599-ad8d-acc4797b0df6",
   "metadata": {},
   "source": [
    "38. Write a Python program to solve (x + y) * (x + y).\n",
    "Test Data : x = 4, y = 3\n",
    "Expected Output : (4 + 3) ^ 2) = 49"
   ]
  },
  {
   "cell_type": "code",
   "execution_count": 21,
   "id": "c53be4d9-b8e0-4aa9-8f67-7671776bb682",
   "metadata": {},
   "outputs": [
    {
     "name": "stdout",
     "output_type": "stream",
     "text": [
      "(4 + 3) ^ 2) = 49\n"
     ]
    }
   ],
   "source": [
    "# Define variables 'x' and 'y' and assign values to them.\n",
    "x, y = 4, 3\n",
    "# Calculate the result by squaring the sum of 'x' and 'y'.\n",
    "result = x * x + 2 * x * y + y * y\n",
    "# Print the result with a formatted message.\n",
    "print(\"({} + {}) ^ 2) = {}\".format(x, y, result))\n"
   ]
  },
  {
   "cell_type": "code",
   "execution_count": null,
   "id": "7ce494e3-fbf4-45e0-8db1-da3944cb2d87",
   "metadata": {},
   "outputs": [],
   "source": []
  },
  {
   "cell_type": "raw",
   "id": "9ea5ed6d-6df1-4ab3-8b7e-94fe7fbbf7b8",
   "metadata": {},
   "source": [
    "39. Write a Python program to compute the future value of a specified principal amount, rate of interest, and number of years.\n",
    "Test Data : amt = 10000, int = 3.5, years = 7\n",
    "Expected Output : 12722.79"
   ]
  },
  {
   "cell_type": "code",
   "execution_count": 22,
   "id": "6ce7f1db-4505-4521-9ef0-908ae9543ca0",
   "metadata": {},
   "outputs": [
    {
     "name": "stdout",
     "output_type": "stream",
     "text": [
      "12722.79\n"
     ]
    }
   ],
   "source": [
    "# Define the principal amount (initial investment).\n",
    "amt = 10000\n",
    "# Define the annual interest rate as a percentage.\n",
    "int = 3.5\n",
    "# Define the number of years.\n",
    "years = 7\n",
    "# Calculate the future value of the investment using the compound interest formula.\n",
    "future_value = amt * ((1 + (0.01 * int)) ** years)\n",
    "# Round the future value to two decimal places and print it.\n",
    "print(round(future_value, 2))\n"
   ]
  },
  {
   "cell_type": "code",
   "execution_count": null,
   "id": "32510293-da0d-437c-82d6-340d9bbecdc1",
   "metadata": {},
   "outputs": [],
   "source": []
  },
  {
   "cell_type": "raw",
   "id": "ef5d62e4-ba52-4011-92ac-98b1dc3e2ac8",
   "metadata": {},
   "source": [
    "40. Write a Python program to calculate the distance between the points (x1, y1) and (x2, y2)."
   ]
  },
  {
   "cell_type": "code",
   "execution_count": 23,
   "id": "8c52178c-89f5-4278-9032-a199b0742554",
   "metadata": {},
   "outputs": [
    {
     "name": "stdout",
     "output_type": "stream",
     "text": [
      "6.324555320336759\n"
     ]
    }
   ],
   "source": [
    "# Import the math module to use the square root function.\n",
    "import math\n",
    "\n",
    "# Define the coordinates of the first point (p1) as a list.\n",
    "p1 = [4, 0]\n",
    "\n",
    "# Define the coordinates of the second point (p2) as a list.\n",
    "p2 = [6, 6]\n",
    "\n",
    "# Calculate the distance between the two points using the distance formula.\n",
    "# The formula computes the Euclidean distance in a 2D space.\n",
    "distance = math.sqrt(((p1[0] - p2[0]) ** 2) + ((p1[1] - p2[1]) ** 2))\n",
    "\n",
    "# Print the calculated distance.\n",
    "print(distance)\n"
   ]
  },
  {
   "cell_type": "code",
   "execution_count": null,
   "id": "5227129c-ad5a-46fe-adc4-069f4b48ef73",
   "metadata": {},
   "outputs": [],
   "source": []
  },
  {
   "cell_type": "code",
   "execution_count": null,
   "id": "631ece6c-9b99-420e-b6bc-741572cea227",
   "metadata": {},
   "outputs": [],
   "source": []
  },
  {
   "cell_type": "code",
   "execution_count": null,
   "id": "0543b4ee-d867-4089-a964-8efdfc12d96d",
   "metadata": {},
   "outputs": [],
   "source": []
  }
 ],
 "metadata": {
  "kernelspec": {
   "display_name": "Python 3 (ipykernel)",
   "language": "python",
   "name": "python3"
  },
  "language_info": {
   "codemirror_mode": {
    "name": "ipython",
    "version": 3
   },
   "file_extension": ".py",
   "mimetype": "text/x-python",
   "name": "python",
   "nbconvert_exporter": "python",
   "pygments_lexer": "ipython3",
   "version": "3.11.5"
  }
 },
 "nbformat": 4,
 "nbformat_minor": 5
}
