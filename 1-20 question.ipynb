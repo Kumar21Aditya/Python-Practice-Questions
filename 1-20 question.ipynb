{
 "cells": [
  {
   "cell_type": "markdown",
   "id": "b4c66d0b-d171-44c2-ab7d-fdc5f401d4ce",
   "metadata": {},
   "source": [
    "Create a function that inverts the rgb values of a given tuple.\n",
    "\n",
    "Examples\n",
    "color_invert((255, 255, 255)) ➞ (0, 0, 0)\n",
    "# (255, 255, 255) is the color white.\n",
    "# The opposite is (0, 0, 0), which is black.\n",
    "\n",
    "color_invert((0, 0, 0)) ➞ (255, 255, 255)\n",
    "\n",
    "color_invert((165, 170, 221)) ➞ (90, 85, 34)\n",
    "Notes\n",
    "Must return a tuple.\n",
    "255 is the max value of a single color channel."
   ]
  },
  {
   "cell_type": "code",
   "execution_count": 7,
   "id": "4e52d07e-a9a1-4d47-a7bb-05dd69249b2a",
   "metadata": {},
   "outputs": [
    {
     "name": "stdout",
     "output_type": "stream",
     "text": [
      "(210, 188, 168)\n"
     ]
    }
   ],
   "source": [
    "def colour_invert(rgb):\n",
    "    return tuple(255-x for x in rgb)\n",
    "\n",
    "print(colour_invert((45,67,87)))\n",
    "    "
   ]
  },
  {
   "cell_type": "code",
   "execution_count": null,
   "id": "e5b05c91-a7e7-4a3b-8b58-cfcabaf6c691",
   "metadata": {},
   "outputs": [],
   "source": []
  },
  {
   "cell_type": "raw",
   "id": "f9f405f8-a704-49da-a4e3-df4e4649de7b",
   "metadata": {},
   "source": [
    "1. Write a Python program to print the following string in a specific format (see the output).\n",
    "Sample String : \"Twinkle, twinkle, little star, How I wonder what you are! Up above the world so high, Like a diamond in the sky. Twinkle, twinkle, little star, How I wonder what you are\"\n",
    "Output :\n",
    "\n",
    "Twinkle, twinkle, little star,\n",
    "\tHow I wonder what you are! \n",
    "\t\tUp above the world so high,   \t\t\n",
    "\t\tLike a diamond in the sky. \n",
    "Twinkle, twinkle, little star, \n",
    "\tHow I wonder what you are"
   ]
  },
  {
   "cell_type": "code",
   "execution_count": 2,
   "id": "62eb8937-a110-4b9f-88c5-52e9ebc10ed0",
   "metadata": {},
   "outputs": [
    {
     "name": "stdout",
     "output_type": "stream",
     "text": [
      "Twinkle, twinkle, little star, \n",
      "\tHow I wonder what you are! \n",
      "\t\tUp above the world so high, \n",
      "\t\tLike a diamond in the sky. \n",
      "Twinkle, twinkle, little star, \n",
      "\tHow I wonder what you are!\n"
     ]
    }
   ],
   "source": [
    "print(\"Twinkle, twinkle, little star, \\n\\tHow I wonder what you are! \\n\\t\\tUp above the world so high, \\n\\t\\tLike a diamond in the sky. \\nTwinkle, twinkle, little star, \\n\\tHow I wonder what you are!\")\n"
   ]
  },
  {
   "cell_type": "code",
   "execution_count": null,
   "id": "8e762186-c070-4ab0-9e94-e20f3165e0c6",
   "metadata": {},
   "outputs": [],
   "source": []
  },
  {
   "cell_type": "markdown",
   "id": "ef248eca-66e6-462e-a8e0-7a6e7fbf2a8c",
   "metadata": {},
   "source": [
    "2.Write a Python program to find out what version of Python you are using."
   ]
  },
  {
   "cell_type": "code",
   "execution_count": 4,
   "id": "d3067d44-71cb-41c5-8fc2-534be6f88cba",
   "metadata": {},
   "outputs": [
    {
     "name": "stdout",
     "output_type": "stream",
     "text": [
      "3.11.5 | packaged by Anaconda, Inc. | (main, Sep 11 2023, 13:26:23) [MSC v.1916 64 bit (AMD64)]\n",
      "sys.version_info(major=3, minor=11, micro=5, releaselevel='final', serial=0)\n"
     ]
    }
   ],
   "source": [
    "import sys\n",
    "print(sys.version)\n",
    "print(sys.version_info)"
   ]
  },
  {
   "cell_type": "code",
   "execution_count": null,
   "id": "0562ecf1-77ca-42a4-bfbd-3387c396b297",
   "metadata": {},
   "outputs": [],
   "source": []
  },
  {
   "cell_type": "raw",
   "id": "51cf251b-f071-42b9-9f28-c24af09d563f",
   "metadata": {},
   "source": [
    "3. Write a Python program to display the current date and time.\n",
    "Sample Output :\n",
    "Current date and time :\n",
    "2014-07-05 14:34:14"
   ]
  },
  {
   "cell_type": "code",
   "execution_count": 16,
   "id": "becc6725-0f97-4c30-8fab-3cd50b3f6962",
   "metadata": {},
   "outputs": [
    {
     "name": "stdout",
     "output_type": "stream",
     "text": [
      "24-02-21 16:04:20\n"
     ]
    }
   ],
   "source": [
    "import datetime\n",
    "now=datetime.datetime.now()\n",
    "print(now.strftime(\"%y-%m-%d %H:%M:%S\"))"
   ]
  },
  {
   "cell_type": "code",
   "execution_count": null,
   "id": "72497430-af46-4db0-bb38-13d6f3eab18d",
   "metadata": {},
   "outputs": [],
   "source": []
  },
  {
   "cell_type": "raw",
   "id": "414d7da6-41d2-4474-ace3-bbd85e8d36af",
   "metadata": {},
   "source": [
    "4. Write a Python program that calculates the area of a circle based on the radius entered by the user.\n",
    "Sample Output :"
   ]
  },
  {
   "cell_type": "code",
   "execution_count": 17,
   "id": "68090f1f-a1ae-410c-a975-9baf0add8e3a",
   "metadata": {},
   "outputs": [
    {
     "name": "stdin",
     "output_type": "stream",
     "text": [
      "Input the radius of the circle :  5\n"
     ]
    },
    {
     "name": "stdout",
     "output_type": "stream",
     "text": [
      "The area of the circle with radius 5.0 is: 78.53981633974483\n"
     ]
    }
   ],
   "source": [
    "# Import the 'pi' constant from the 'math' module to calculate the area of a circle\n",
    "from math import pi\n",
    "\n",
    "# Prompt the user to input the radius of the circle\n",
    "r = float(input(\"Input the radius of the circle : \"))\n",
    "\n",
    "# Calculate the area of the circle using the formula: area = π * r^2\n",
    "area = pi * r ** 2\n",
    "\n",
    "# Display the result, including the radius and calculated area\n",
    "print(\"The area of the circle with radius \" + str(r) + \" is: \" + str(area))\n"
   ]
  },
  {
   "cell_type": "code",
   "execution_count": null,
   "id": "a74801c1-ffd4-424c-8e14-6ff2709ac949",
   "metadata": {},
   "outputs": [],
   "source": []
  },
  {
   "cell_type": "raw",
   "id": "9bf79cf6-454f-413b-8865-3184ea7b3b26",
   "metadata": {},
   "source": [
    "5. Write a Python program that accepts the user's first and last name and prints them in reverse order with a space between them."
   ]
  },
  {
   "cell_type": "code",
   "execution_count": 20,
   "id": "57506bce-c184-4a01-b13a-499c65b449de",
   "metadata": {},
   "outputs": [
    {
     "name": "stdin",
     "output_type": "stream",
     "text": [
      "enter first name kumar\n",
      "enter last name aditya\n"
     ]
    },
    {
     "name": "stdout",
     "output_type": "stream",
     "text": [
      "your full name is kumar aditya\n",
      "reversed name is aytida ramuk\n",
      "last name followed by first name is aditya kumar\n"
     ]
    }
   ],
   "source": [
    "first=input(\"enter first name\")\n",
    "last=input(\"enter last name\")\n",
    "full_name=first+\" \"+last\n",
    "rev=full_name[::-1]\n",
    "print(\"your full name is\",full_name)\n",
    "print(\"reversed name is\",rev)\n",
    "print(\"last name followed by first name is\",last+\" \"+first)"
   ]
  },
  {
   "cell_type": "code",
   "execution_count": null,
   "id": "0b70ed6b-fa6f-45d3-a813-cdbfbae6bf74",
   "metadata": {},
   "outputs": [],
   "source": []
  },
  {
   "cell_type": "raw",
   "id": "e0afc0f1-71c4-4b39-9468-5fc256ae5a16",
   "metadata": {},
   "source": [
    "6. Write a Python program that accepts a sequence of comma-separated numbers from the user and generates a list and a tuple of those numbers.\n",
    "Sample data : 3, 5, 7, 23\n",
    "Output :\n",
    "List : ['3', ' 5', ' 7', ' 23']\n",
    "Tuple : ('3', ' 5', ' 7', ' 23')"
   ]
  },
  {
   "cell_type": "code",
   "execution_count": 22,
   "id": "359e1dd2-c70c-495c-b884-1329704513b3",
   "metadata": {},
   "outputs": [
    {
     "name": "stdin",
     "output_type": "stream",
     "text": [
      "enter total number of input 5\n",
      "enter number 1\n",
      "enter number 2\n",
      "enter number 3\n",
      "enter number 4\n",
      "enter number 5\n"
     ]
    },
    {
     "name": "stdout",
     "output_type": "stream",
     "text": [
      "[1, 2, 3, 4, 5]\n",
      "(1, 2, 3, 4, 5)\n"
     ]
    }
   ],
   "source": [
    "lst=[]\n",
    "n=int(input('enter total number of input'))\n",
    "for i in range(1,n+1):\n",
    "    x=int(input('enter number'))\n",
    "    lst.append(x)\n",
    "\n",
    "print(lst)\n",
    "print(tuple(lst))"
   ]
  },
  {
   "cell_type": "code",
   "execution_count": 24,
   "id": "6fc2d230-96c1-48b9-bdf5-1a5a5fa5138f",
   "metadata": {},
   "outputs": [
    {
     "name": "stdin",
     "output_type": "stream",
     "text": [
      "enter the numbers separated by comma 1,2,3,4,5\n"
     ]
    },
    {
     "name": "stdout",
     "output_type": "stream",
     "text": [
      "['1', '2', '3', '4', '5']\n",
      "['1', '2', '3', '4', '5']\n",
      "('1', '2', '3', '4', '5')\n"
     ]
    }
   ],
   "source": [
    "#using split()\n",
    "x=input(\"enter the numbers separated by comma\")\n",
    "y=x.split(\",\")\n",
    "print(y)\n",
    "print(list(y))\n",
    "print(tuple(y))"
   ]
  },
  {
   "cell_type": "code",
   "execution_count": null,
   "id": "fca25687-30ec-4e4b-9414-448384ae85c3",
   "metadata": {},
   "outputs": [],
   "source": []
  },
  {
   "cell_type": "raw",
   "id": "68803020-65ca-4103-b9ae-e18a87a65674",
   "metadata": {},
   "source": [
    "7. Write a Python program that accepts a filename from the user and prints the extension of the file.\n",
    "Sample filename : abc.java\n",
    "Output : java"
   ]
  },
  {
   "cell_type": "code",
   "execution_count": 25,
   "id": "8e0c685f-29f2-472e-8f21-8574dd75701f",
   "metadata": {},
   "outputs": [
    {
     "name": "stdin",
     "output_type": "stream",
     "text": [
      "enter your file name index.html\n"
     ]
    },
    {
     "name": "stdout",
     "output_type": "stream",
     "text": [
      "file extension is  html\n"
     ]
    }
   ],
   "source": [
    "file=input(\"enter your file name\")\n",
    "x=file.split(\".\")\n",
    "file_extension=x[-1]\n",
    "print(\"file extension is \",file_extension)\n"
   ]
  },
  {
   "cell_type": "code",
   "execution_count": null,
   "id": "87200f43-0d6a-485f-8f3e-cde8714e3a28",
   "metadata": {},
   "outputs": [],
   "source": []
  },
  {
   "cell_type": "raw",
   "id": "2a919ee6-ea5a-4785-a743-9d49aabc9575",
   "metadata": {},
   "source": [
    "8. Write a Python program to display the first and last colors from the following list.\n",
    "color_list = [\"Red\",\"Green\",\"White\" ,\"Black\"]"
   ]
  },
  {
   "cell_type": "code",
   "execution_count": 26,
   "id": "97188457-c11b-4a52-b59f-96e131d20845",
   "metadata": {},
   "outputs": [
    {
     "name": "stdout",
     "output_type": "stream",
     "text": [
      "first element is  Red\n",
      "last_element is  Black\n"
     ]
    }
   ],
   "source": [
    "color_list = [\"Red\",\"Green\",\"White\" ,\"Black\"]\n",
    "print(\"first element is \",color_list[0])\n",
    "print(\"last_element is \",color_list[-1])"
   ]
  },
  {
   "cell_type": "code",
   "execution_count": null,
   "id": "b96e501b-c8e2-49f3-a1d8-94f94bc8440a",
   "metadata": {},
   "outputs": [],
   "source": []
  },
  {
   "cell_type": "raw",
   "id": "4435bc62-5a89-48e3-9961-699160b4ef80",
   "metadata": {},
   "source": [
    "9. Write a Python program to display the examination schedule. (extract the date from exam_st_date).\n",
    "exam_st_date = (11, 12, 2014)\n",
    "Sample Output : The examination will start from : 11 / 12 / 2014"
   ]
  },
  {
   "cell_type": "code",
   "execution_count": 31,
   "id": "2c48c32e-041a-4e76-b391-9fc95c26d983",
   "metadata": {},
   "outputs": [
    {
     "name": "stdout",
     "output_type": "stream",
     "text": [
      "your exam date is 11/12/2014\n"
     ]
    }
   ],
   "source": [
    "exam_st_date = (11, 12, 2014)\n",
    "date=exam_st_date[0]\n",
    "month=exam_st_date[1]\n",
    "year=exam_st_date[2]\n",
    "print(\"your exam date is\",str(date) +\"/\"+str(month)+\"/\"+str(year))"
   ]
  },
  {
   "cell_type": "code",
   "execution_count": 35,
   "id": "55f46873-d7e5-4cc1-8037-0967915b4d14",
   "metadata": {},
   "outputs": [
    {
     "name": "stdout",
     "output_type": "stream",
     "text": [
      "the exam start date is 11 /12 /2014\n"
     ]
    }
   ],
   "source": [
    "exam_st_date = (11, 12, 2014)\n",
    "print(\"the exam start date is %i /%i /%i\" % exam_st_date)"
   ]
  },
  {
   "cell_type": "raw",
   "id": "d243188d-40bb-4d70-bb0f-799e2669e8c2",
   "metadata": {},
   "source": []
  },
  {
   "cell_type": "raw",
   "id": "9c385d75-fb50-4114-9c8d-9a7771121b22",
   "metadata": {},
   "source": [
    "10. Write a Python program that accepts an integer (n) and computes the value of n+nn+nnn.\n",
    "Sample value of n is 5\n",
    "Expected Result : 615\n",
    "\n",
    "5+55+555"
   ]
  },
  {
   "cell_type": "code",
   "execution_count": 40,
   "id": "99239f3b-24a0-4709-82ff-4667f6558c4b",
   "metadata": {},
   "outputs": [
    {
     "name": "stdin",
     "output_type": "stream",
     "text": [
      "enter single digit number 5\n"
     ]
    },
    {
     "name": "stdout",
     "output_type": "stream",
     "text": [
      "615\n"
     ]
    }
   ],
   "source": [
    "n=int(input(\"enter single digit number\"))\n",
    "a=int(\"%s\" %n)\n",
    "b=int(\"%s%s\"%(n,n))\n",
    "c=int(\"%s%s%s\" %(n,n,n))\n",
    "print(a+b+c)"
   ]
  },
  {
   "cell_type": "raw",
   "id": "f4fd4e5b-a0c1-4d12-929d-5e229842acd2",
   "metadata": {},
   "source": []
  },
  {
   "cell_type": "raw",
   "id": "c284b732-b832-41cf-b996-9aa72163b0f5",
   "metadata": {},
   "source": [
    "11. Write a Python program to print the documents (syntax, description etc.) of Python built-in function(s).\n",
    "Sample function : abs()\n",
    "Expected Result :\n",
    "abs(number) -> number\n",
    "Return the absolute value of the argument."
   ]
  },
  {
   "cell_type": "code",
   "execution_count": 41,
   "id": "acf1dc44-95f9-4593-8141-cc4550661c18",
   "metadata": {},
   "outputs": [
    {
     "name": "stdout",
     "output_type": "stream",
     "text": [
      "-34.56\n"
     ]
    }
   ],
   "source": [
    "x=-34.56\n",
    "y=abs(x)\n",
    "print(x)"
   ]
  },
  {
   "cell_type": "code",
   "execution_count": 42,
   "id": "256cf620-bb30-457c-a305-a73a8ffa1c6d",
   "metadata": {},
   "outputs": [
    {
     "name": "stdout",
     "output_type": "stream",
     "text": [
      "Return the absolute value of the argument.\n"
     ]
    }
   ],
   "source": [
    "# Print the docstring (documentation) of the 'abs' function\n",
    "print(abs.__doc__)\n"
   ]
  },
  {
   "cell_type": "raw",
   "id": "5170a43e-3c51-4e44-8fcd-e957053c1655",
   "metadata": {},
   "source": []
  },
  {
   "cell_type": "raw",
   "id": "3e781ce1-952d-417a-8405-063a5d92f7af",
   "metadata": {},
   "source": [
    "12. Write a Python program that prints the calendar for a given month and year.\n",
    "Note : Use 'calendar' module."
   ]
  },
  {
   "cell_type": "code",
   "execution_count": 47,
   "id": "00e5526d-aa85-4ab4-9bf7-cbe71a433279",
   "metadata": {},
   "outputs": [
    {
     "name": "stderr",
     "output_type": "stream",
     "text": [
      "ERROR: Could not find a version that satisfies the requirement calendar (from versions: none)\n",
      "ERROR: No matching distribution found for calendar\n"
     ]
    },
    {
     "name": "stdin",
     "output_type": "stream",
     "text": [
      "enter month number 2\n",
      "enter year number 2024\n"
     ]
    },
    {
     "name": "stdout",
     "output_type": "stream",
     "text": [
      "   February 2024\n",
      "Mo Tu We Th Fr Sa Su\n",
      "          1  2  3  4\n",
      " 5  6  7  8  9 10 11\n",
      "12 13 14 15 16 17 18\n",
      "19 20 21 22 23 24 25\n",
      "26 27 28 29\n",
      "\n"
     ]
    }
   ],
   "source": [
    "!pip install calendar\n",
    "import calendar\n",
    "month=int(input(\"enter month number\"))\n",
    "year=int(input(\"enter year number\"))\n",
    "print(calendar.month(year,month))"
   ]
  },
  {
   "cell_type": "raw",
   "id": "d7c8a13c-b4f2-4fd7-accb-80230aea3083",
   "metadata": {},
   "source": []
  },
  {
   "cell_type": "raw",
   "id": "3ad3b614-30db-444d-b317-4a82c1563c09",
   "metadata": {},
   "source": [
    "13. Write a Python program to print the following 'here document'.\n",
    "Sample string :\n",
    "a string that you \"don't\" have to escape\n",
    "This\n",
    "is a ....... multi-line\n",
    "heredoc string --------> example"
   ]
  },
  {
   "cell_type": "code",
   "execution_count": 48,
   "id": "f505e7b5-ba66-4424-addc-b156dd8c7732",
   "metadata": {},
   "outputs": [
    {
     "name": "stdout",
     "output_type": "stream",
     "text": [
      "\n",
      "a string that you \"don't\" have to escape\n",
      "This\n",
      "is a  ....... multi-line\n",
      "heredoc string --------> example\n",
      "\n"
     ]
    }
   ],
   "source": [
    "# Use triple double-quotes to create a multi-line string\n",
    "print(\"\"\"\n",
    "a string that you \"don't\" have to escape\n",
    "This\n",
    "is a  ....... multi-line\n",
    "heredoc string --------> example\n",
    "\"\"\")\n"
   ]
  },
  {
   "cell_type": "raw",
   "id": "24a83153-841e-430a-9654-0c19eda6150d",
   "metadata": {},
   "source": []
  },
  {
   "cell_type": "raw",
   "id": "18f85096-4de3-40d1-8fec-e9e405223ac2",
   "metadata": {},
   "source": [
    "14. Write a Python program to calculate the number of days between two dates.\n",
    "Sample dates : (2014, 7, 2), (2014, 7, 11)\n",
    "Expected output : 9 days"
   ]
  },
  {
   "cell_type": "code",
   "execution_count": 50,
   "id": "8062f1fc-4cd4-4018-866a-9a3bc2e38cca",
   "metadata": {},
   "outputs": [
    {
     "name": "stdout",
     "output_type": "stream",
     "text": [
      "12\n"
     ]
    }
   ],
   "source": [
    "from datetime import date\n",
    "fdate=date(1992,7,7)\n",
    "ldate=date(1992,7,19)\n",
    "diff=ldate-fdate\n",
    "print(diff.days)"
   ]
  },
  {
   "cell_type": "raw",
   "id": "772a9c43-b913-4630-95bc-2ae1a10c4733",
   "metadata": {},
   "source": []
  },
  {
   "cell_type": "raw",
   "id": "324a2706-d423-4352-a4d6-81b7ea8e03eb",
   "metadata": {},
   "source": [
    "15. Write a Python program to get the volume of a sphere with radius six"
   ]
  },
  {
   "cell_type": "code",
   "execution_count": 52,
   "id": "0b2b9548-bed7-40b4-998a-85a04b4e8e03",
   "metadata": {},
   "outputs": [
    {
     "name": "stdout",
     "output_type": "stream",
     "text": [
      "The volume of the sphere is:  904.7786842338603\n"
     ]
    }
   ],
   "source": [
    "# Define the value of pi\n",
    "pi = 3.1415926535897931\n",
    "\n",
    "# Define the radius of the sphere\n",
    "r = 6.0\n",
    "\n",
    "# Calculate the volume of the sphere using the formula\n",
    "V = 4.0/3.0 * pi * r**3\n",
    "\n",
    "# Print the calculated volume of the sphere\n",
    "print('The volume of the sphere is: ', V)\n",
    "\n"
   ]
  },
  {
   "cell_type": "raw",
   "id": "9b53b140-39a2-4c92-a5db-fbcb00146f8a",
   "metadata": {},
   "source": []
  },
  {
   "cell_type": "raw",
   "id": "1655fa4d-ad11-46d6-9666-7f7bc686de96",
   "metadata": {},
   "source": [
    "16. Write a Python program to calculate the difference between a given number and 17. If the number is greater than 17, return twice the \n",
    "absolute difference."
   ]
  },
  {
   "cell_type": "code",
   "execution_count": 57,
   "id": "a70ba602-24d6-4b65-b593-08276e0ffa8d",
   "metadata": {},
   "outputs": [
    {
     "name": "stdout",
     "output_type": "stream",
     "text": [
      "10\n"
     ]
    }
   ],
   "source": [
    "def adi(n):\n",
    "    if n<17:\n",
    "        print(17-n)\n",
    "    else:\n",
    "        print(2*abs(17-n))\n",
    "\n",
    "adi(22)"
   ]
  },
  {
   "cell_type": "code",
   "execution_count": 55,
   "id": "06df5d54-d877-4301-8414-af496b13784c",
   "metadata": {},
   "outputs": [
    {
     "name": "stdin",
     "output_type": "stream",
     "text": [
      "enter the number 22\n"
     ]
    },
    {
     "name": "stdout",
     "output_type": "stream",
     "text": [
      "5\n"
     ]
    }
   ],
   "source": [
    "x=17\n",
    "y=int(input(\"enter the number\"))\n",
    "z=x-y\n",
    "if z>0:\n",
    "    print(2*y)\n",
    "else:\n",
    "    print(abs(z))"
   ]
  },
  {
   "cell_type": "raw",
   "id": "3c9fdebd-a398-41ee-a118-e1985cf8a65a",
   "metadata": {},
   "source": []
  },
  {
   "cell_type": "raw",
   "id": "04dbbd1a-c637-4918-8f2b-b21939bccbdc",
   "metadata": {},
   "source": [
    "17. Write a Python program to test whether a number is within 100 of 1000 or 2000."
   ]
  },
  {
   "cell_type": "code",
   "execution_count": 58,
   "id": "0eee2583-2788-4ef3-9518-2fb3d38e4f6b",
   "metadata": {},
   "outputs": [
    {
     "name": "stdout",
     "output_type": "stream",
     "text": [
      "True\n",
      "True\n",
      "False\n",
      "False\n"
     ]
    }
   ],
   "source": [
    "# Define a function named \"near_thousand\" that takes an integer parameter \"n\"\n",
    "def near_thousand(n):\n",
    "    # Check if the absolute difference between 1000 and n is less than or equal to 100\n",
    "    # OR check if the absolute difference between 2000 and n is less than or equal to 100\n",
    "    return ((abs(1000 - n) <= 100) or (abs(2000 - n) <= 100))\n",
    "\n",
    "# Call the \"near_thousand\" function with the argument 1000 and print the result\n",
    "print(near_thousand(1000))\n",
    "\n",
    "# Call the \"near_thousand\" function with the argument 900 and print the result\n",
    "print(near_thousand(900))\n",
    "\n",
    "# Call the \"near_thousand\" function with the argument 800 and print the result\n",
    "print(near_thousand(800))\n",
    "\n",
    "# Call the \"near_thousand\" function with the argument 2200 and print the result\n",
    "print(near_thousand(2200))\n"
   ]
  },
  {
   "cell_type": "raw",
   "id": "b48e04e7-f957-4c4a-955f-2709765011b4",
   "metadata": {},
   "source": []
  },
  {
   "cell_type": "raw",
   "id": "7cf1c1f7-47b9-4113-9e4a-f238a49253c5",
   "metadata": {},
   "source": [
    "18. Write a Python program to calculate the sum of three given numbers. If the values are equal, return three times their sum."
   ]
  },
  {
   "cell_type": "code",
   "execution_count": 61,
   "id": "eec5f37f-d275-4ef6-8e3e-27b83d701120",
   "metadata": {},
   "outputs": [
    {
     "name": "stdin",
     "output_type": "stream",
     "text": [
      "enter number 78\n",
      "enter number 78\n",
      "enter number 78\n"
     ]
    },
    {
     "name": "stdout",
     "output_type": "stream",
     "text": [
      "702\n"
     ]
    }
   ],
   "source": [
    "a=int(input(\"enter number\"))\n",
    "b=int(input(\"enter number\"))\n",
    "c=int(input(\"enter number\"))\n",
    "if a==b==c:\n",
    "    print(3*(a+b+c))\n",
    "else:\n",
    "    print(a+b+c)"
   ]
  },
  {
   "cell_type": "raw",
   "id": "eba4236b-1485-487c-89ab-468a14b900cd",
   "metadata": {},
   "source": []
  },
  {
   "cell_type": "raw",
   "id": "91fdf60e-0157-49be-91b9-0a0106d66aba",
   "metadata": {},
   "source": [
    "19. Write a Python program to get a newly-generated string from a given string where \"Is\" has been added to the front.\n",
    "Return the string unchanged if the given string already begins with \"Is\"."
   ]
  },
  {
   "cell_type": "code",
   "execution_count": 66,
   "id": "730661fb-7892-438f-8dc2-1be6bc8c159c",
   "metadata": {},
   "outputs": [
    {
     "name": "stdin",
     "output_type": "stream",
     "text": [
      "enter the string Is\n"
     ]
    },
    {
     "name": "stdout",
     "output_type": "stream",
     "text": [
      "Is\n"
     ]
    }
   ],
   "source": [
    "inp=input(\"enter the string\")\n",
    "if len(inp) >= 2 and inp[:2] == \"Is\":\n",
    "    print(inp)\n",
    "else:\n",
    "    print(\"is \"+inp)"
   ]
  },
  {
   "cell_type": "code",
   "execution_count": null,
   "id": "7ad04a0b-688a-43f7-b89a-6fc106574e39",
   "metadata": {},
   "outputs": [],
   "source": []
  },
  {
   "cell_type": "raw",
   "id": "c10eb09e-2d85-40d0-bc47-c6bb13103ed2",
   "metadata": {},
   "source": [
    "20. Write a Python program that returns a string that is n (non-negative integer) copies of a given string."
   ]
  },
  {
   "cell_type": "code",
   "execution_count": 67,
   "id": "a7773f9e-8d51-49eb-be67-7f021456c7aa",
   "metadata": {},
   "outputs": [
    {
     "name": "stdout",
     "output_type": "stream",
     "text": [
      "abcabc\n",
      ".py.py.py\n"
     ]
    }
   ],
   "source": [
    "# Define a function named \"larger_string\" that takes two parameters, \"text\" and \"n\"\n",
    "def larger_string(text, n):\n",
    "    # Initialize an empty string variable named \"result\"\n",
    "    result = \"\"\n",
    "\n",
    "    # Use a for loop to repeat the \"text\" \"n\" times and concatenate it to the \"result\"\n",
    "    for i in range(n):\n",
    "        result = result + text\n",
    "\n",
    "    # Return the final \"result\" string\n",
    "    return result\n",
    "\n",
    "# Call the \"larger_string\" function with the arguments 'abc' and 2, then print the result\n",
    "print(larger_string('abc', 2))\n",
    "\n",
    "# Call the \"larger_string\" function with the arguments '.py' and 3, then print the result\n",
    "print(larger_string('.py', 3))\n"
   ]
  },
  {
   "cell_type": "code",
   "execution_count": null,
   "id": "2d0739b2-5ecf-4eeb-9cf7-c874cc8f68f8",
   "metadata": {},
   "outputs": [],
   "source": []
  },
  {
   "cell_type": "code",
   "execution_count": null,
   "id": "df534d1f-c8e4-481d-9074-b29c0a4f1f55",
   "metadata": {},
   "outputs": [],
   "source": []
  },
  {
   "cell_type": "code",
   "execution_count": null,
   "id": "6ee47688-94f4-4103-9b07-eef6e246fc40",
   "metadata": {},
   "outputs": [],
   "source": []
  },
  {
   "cell_type": "code",
   "execution_count": null,
   "id": "6a22d621-b960-4abb-957b-7a75dfcd165d",
   "metadata": {},
   "outputs": [],
   "source": []
  }
 ],
 "metadata": {
  "kernelspec": {
   "display_name": "Python 3 (ipykernel)",
   "language": "python",
   "name": "python3"
  },
  "language_info": {
   "codemirror_mode": {
    "name": "ipython",
    "version": 3
   },
   "file_extension": ".py",
   "mimetype": "text/x-python",
   "name": "python",
   "nbconvert_exporter": "python",
   "pygments_lexer": "ipython3",
   "version": "3.11.5"
  }
 },
 "nbformat": 4,
 "nbformat_minor": 5
}
