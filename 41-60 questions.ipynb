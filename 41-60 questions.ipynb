{
 "cells": [
  {
   "cell_type": "raw",
   "id": "9af4428d-b350-4c70-a3f9-b21940dd2020",
   "metadata": {},
   "source": [
    "41. Write a Python program to check whether a file exists."
   ]
  },
  {
   "cell_type": "code",
   "execution_count": 2,
   "id": "9781563c-1833-450e-afaa-c265ff8bd176",
   "metadata": {},
   "outputs": [
    {
     "name": "stdout",
     "output_type": "stream",
     "text": [
      "False\n",
      "False\n"
     ]
    }
   ],
   "source": [
    "import os\n",
    "print(os.path.isfile(\"main.txt\"))\n",
    "print(os.path.isfile(\"emp.txt\"))"
   ]
  },
  {
   "cell_type": "code",
   "execution_count": null,
   "id": "e86311a5-a7cc-4bc6-abea-d12d50a084ef",
   "metadata": {},
   "outputs": [],
   "source": []
  },
  {
   "cell_type": "raw",
   "id": "41a855a0-06c1-4fbf-9f01-ca67c9304b09",
   "metadata": {},
   "source": [
    "42. Write a Python program to determine if a Python shell is executing in 32bit or 64bit mode on OS."
   ]
  },
  {
   "cell_type": "code",
   "execution_count": null,
   "id": "0944a3b9-09eb-48e5-a24d-32672bbf72f3",
   "metadata": {},
   "outputs": [],
   "source": [
    "# Import the 'struct' module, which provides pack and unpack functions for working with variable-length binary data.\n",
    "import struct\n",
    "\n",
    "# Use the 'calcsize' function to determine the size (in bytes) of the C int type for the current platform.\n",
    "# The format string \"P\" is used to represent the C void pointer type, and multiplying it by 8 gives the size in bits.\n",
    "# The result will be 32 for 32-bit platforms and 64 for 64-bit platforms.\n",
    "print(struct.calcsize(\"P\") * 8)\n"
   ]
  },
  {
   "cell_type": "code",
   "execution_count": null,
   "id": "437466f4-70de-49b1-b0ce-20d1e35d2ed6",
   "metadata": {},
   "outputs": [],
   "source": []
  },
  {
   "cell_type": "raw",
   "id": "45cea38f-96b4-4215-b2a4-f252abc2d9c8",
   "metadata": {},
   "source": [
    "43. Write a Python program to get OS name, platform and release information."
   ]
  },
  {
   "cell_type": "code",
   "execution_count": 3,
   "id": "b38e5d0b-84a0-4950-95d0-3944966f116e",
   "metadata": {},
   "outputs": [
    {
     "name": "stdout",
     "output_type": "stream",
     "text": [
      "operating system name is  nt\n",
      "platform name is Windows\n",
      "release is 10\n"
     ]
    }
   ],
   "source": [
    "import os\n",
    "import platform\n",
    "print(\"operating system name is \",os.name)\n",
    "print(\"platform name is\",platform.system())\n",
    "print(\"release is\",platform.release())"
   ]
  },
  {
   "cell_type": "code",
   "execution_count": null,
   "id": "c5100b62-de88-4674-b98d-f070191284cd",
   "metadata": {},
   "outputs": [],
   "source": []
  },
  {
   "cell_type": "raw",
   "id": "0c72c065-67f1-4357-abf2-bdf9a25ed5d0",
   "metadata": {},
   "source": [
    "44. Write a Python program to locate Python site packages."
   ]
  },
  {
   "cell_type": "code",
   "execution_count": 5,
   "id": "6379c901-e939-4926-960d-8e1d71a0b460",
   "metadata": {},
   "outputs": [
    {
     "name": "stdout",
     "output_type": "stream",
     "text": [
      "['C:\\\\Users\\\\adity\\\\anaconda3', 'C:\\\\Users\\\\adity\\\\anaconda3\\\\Lib\\\\site-packages']\n"
     ]
    }
   ],
   "source": [
    "import site\n",
    "print(site.getsitepackages())"
   ]
  },
  {
   "cell_type": "code",
   "execution_count": null,
   "id": "16661dc3-f577-4725-a2ce-1c92e5a3a57f",
   "metadata": {},
   "outputs": [],
   "source": []
  },
  {
   "cell_type": "raw",
   "id": "f7ccce1a-7323-4514-9dcd-b41bfe2e691b",
   "metadata": {},
   "source": [
    "45.Write a Python program that calls an external command."
   ]
  },
  {
   "cell_type": "code",
   "execution_count": 7,
   "id": "94dc1131-5756-42a8-8370-8caea4255835",
   "metadata": {},
   "outputs": [
    {
     "name": "stdout",
     "output_type": "stream",
     "text": [
      ".ipynb_checkpoints\n",
      "1-20 question.ipynb\n",
      "21-40 question.ipynb\n",
      "41-60 questions.ipynb\n"
     ]
    }
   ],
   "source": [
    "import os\n",
    "\n",
    "# Get a list of files in the current directory\n",
    "files = os.listdir()\n",
    "\n",
    "# Print the list of files\n",
    "for file in files:\n",
    "    print(file)\n"
   ]
  },
  {
   "cell_type": "code",
   "execution_count": null,
   "id": "9568b2fb-40bf-43f7-862f-8d7073b78083",
   "metadata": {},
   "outputs": [],
   "source": []
  },
  {
   "cell_type": "raw",
   "id": "12116d3a-9544-4701-8562-5e606cb4efa2",
   "metadata": {},
   "source": [
    "46. Write a Python program to retrieve the path and name of the file currently being executed."
   ]
  },
  {
   "cell_type": "code",
   "execution_count": 13,
   "id": "42f03db8-4eec-427d-9769-3e3bfa77aadb",
   "metadata": {},
   "outputs": [
    {
     "ename": "NameError",
     "evalue": "name '__file__' is not defined",
     "output_type": "error",
     "traceback": [
      "\u001b[1;31m---------------------------------------------------------------------------\u001b[0m",
      "\u001b[1;31mNameError\u001b[0m                                 Traceback (most recent call last)",
      "Cell \u001b[1;32mIn[13], line 2\u001b[0m\n\u001b[0;32m      1\u001b[0m \u001b[38;5;28;01mimport\u001b[39;00m \u001b[38;5;21;01mos\u001b[39;00m\n\u001b[1;32m----> 2\u001b[0m \u001b[38;5;28mprint\u001b[39m(os\u001b[38;5;241m.\u001b[39mpath\u001b[38;5;241m.\u001b[39mrealpath(\u001b[38;5;18;43m__file__\u001b[39;49m))\n",
      "\u001b[1;31mNameError\u001b[0m: name '__file__' is not defined"
     ]
    }
   ],
   "source": [
    "import os\n",
    "print(os.path.realpath(__file__))"
   ]
  },
  {
   "cell_type": "code",
   "execution_count": null,
   "id": "e27090cc-b2c7-47ec-81c0-c2f5d379c25b",
   "metadata": {},
   "outputs": [],
   "source": []
  },
  {
   "cell_type": "raw",
   "id": "5e2905dc-d309-4418-8e18-affbe273fb71",
   "metadata": {},
   "source": [
    "47. Write a Python program to find out the number of CPUs used."
   ]
  },
  {
   "cell_type": "code",
   "execution_count": 14,
   "id": "87fae1cb-65d7-4184-b720-8a91cae9e205",
   "metadata": {},
   "outputs": [
    {
     "name": "stdout",
     "output_type": "stream",
     "text": [
      "16\n"
     ]
    }
   ],
   "source": [
    "import multiprocessing\n",
    "print(multiprocessing.cpu_count())"
   ]
  },
  {
   "cell_type": "code",
   "execution_count": null,
   "id": "f43d7574-f04d-4507-a1e1-19b26aef4c8b",
   "metadata": {},
   "outputs": [],
   "source": []
  },
  {
   "cell_type": "raw",
   "id": "c939b676-87b7-493c-99ae-6182fe378726",
   "metadata": {},
   "source": [
    "48. Write a Python program to parse a string to float or integer."
   ]
  },
  {
   "cell_type": "code",
   "execution_count": null,
   "id": "438e6006-49d8-4f95-bdc8-fdb6d1388bf2",
   "metadata": {},
   "outputs": [],
   "source": [
    "# Define a string 'n' containing a numeric value.\n",
    "n = \"246.2458\"\n",
    "# Convert the string 'n' to a floating-point number and print the result.\n",
    "print(float(n))\n",
    "# Convert the floating-point number to an integer, truncating any decimal part, and print the result.\n",
    "print(int(float(n)))\n"
   ]
  },
  {
   "cell_type": "code",
   "execution_count": null,
   "id": "07f3f10a-be8f-4fc3-b9a0-dcde11a68773",
   "metadata": {},
   "outputs": [],
   "source": []
  },
  {
   "cell_type": "raw",
   "id": "9468b3d2-e6aa-46a8-851a-fcd8e118d4aa",
   "metadata": {},
   "source": [
    "49. Write a Python program to list all files in a directory."
   ]
  },
  {
   "cell_type": "code",
   "execution_count": null,
   "id": "53434522-15c0-4c28-8936-464676b8c8a3",
   "metadata": {},
   "outputs": [],
   "source": [
    "# Import necessary functions and modules from the 'os' library.\n",
    "from os import listdir\n",
    "from os.path import isfile, join\n",
    "\n",
    "# Create a list 'files_list' that contains the names of files in the '/home/students' directory.\n",
    "# It uses a list comprehension to filter files using 'isfile' and 'join' functions.\n",
    "files_list = [f for f in listdir('/home/students') if isfile(join('/home/students', f))]\n",
    "\n",
    "# Print the list of file names.\n",
    "print(files_list)\n"
   ]
  },
  {
   "cell_type": "code",
   "execution_count": null,
   "id": "a3a6baf4-cd44-4796-888a-db71276abad4",
   "metadata": {},
   "outputs": [],
   "source": []
  },
  {
   "cell_type": "raw",
   "id": "110c8aa2-0162-46cc-a7a8-8475b5042e15",
   "metadata": {},
   "source": [
    "50. Write a Python program to print without a newline or space."
   ]
  },
  {
   "cell_type": "code",
   "execution_count": 16,
   "id": "c8bacb52-5329-43fb-aad6-dd0ee29d6232",
   "metadata": {},
   "outputs": [
    {
     "name": "stdout",
     "output_type": "stream",
     "text": [
      "**********\n",
      "\n"
     ]
    }
   ],
   "source": [
    "# Iterate through a range of numbers from 0 to 9 (inclusive).\n",
    "for i in range(0, 10):\n",
    "    # Print an asterisk '*' character on the same line using the 'end' parameter.\n",
    "    print('*', end=\"\")\n",
    "# Print a newline character to move to the next line.\n",
    "print(\"\\n\")\n"
   ]
  },
  {
   "cell_type": "raw",
   "id": "0e942b77-682a-4388-ba7d-100463b9601b",
   "metadata": {},
   "source": [
    "51. Write a Python program to determine the profiling of Python programs.\n",
    "Note: A profile is a set of statistics that describes how often and for how long various parts of the program executed. These statistics can be formatted into reports via the pstats module"
   ]
  },
  {
   "cell_type": "code",
   "execution_count": 4,
   "id": "6ca3d20f-d62f-45c0-a544-d54b242434c6",
   "metadata": {},
   "outputs": [
    {
     "name": "stdout",
     "output_type": "stream",
     "text": [
      "79\n",
      "         29 function calls in 0.001 seconds\n",
      "\n",
      "   Ordered by: standard name\n",
      "\n",
      "   ncalls  tottime  percall  cumtime  percall filename:lineno(function)\n",
      "        1    0.000    0.000    0.001    0.001 2158447302.py:2(sum)\n",
      "        1    0.000    0.000    0.001    0.001 <string>:1(<module>)\n",
      "        1    0.000    0.000    0.000    0.000 iostream.py:137(_event_pipe)\n",
      "        1    0.000    0.000    0.001    0.001 iostream.py:259(schedule)\n",
      "        2    0.000    0.000    0.000    0.000 iostream.py:521(_is_master_process)\n",
      "        2    0.000    0.000    0.001    0.000 iostream.py:548(_schedule_flush)\n",
      "        2    0.000    0.000    0.001    0.000 iostream.py:626(write)\n",
      "        1    0.000    0.000    0.000    0.000 socket.py:621(send)\n",
      "        1    0.000    0.000    0.000    0.000 threading.py:1118(_wait_for_tstate_lock)\n",
      "        1    0.000    0.000    0.000    0.000 threading.py:1185(is_alive)\n",
      "        1    0.000    0.000    0.000    0.000 threading.py:568(is_set)\n",
      "        1    0.000    0.000    0.001    0.001 {built-in method builtins.exec}\n",
      "        2    0.000    0.000    0.000    0.000 {built-in method builtins.isinstance}\n",
      "        2    0.000    0.000    0.000    0.000 {built-in method builtins.len}\n",
      "        1    0.000    0.000    0.001    0.001 {built-in method builtins.print}\n",
      "        2    0.000    0.000    0.000    0.000 {built-in method nt.getpid}\n",
      "        2    0.000    0.000    0.000    0.000 {method '__exit__' of '_thread.RLock' objects}\n",
      "        1    0.000    0.000    0.000    0.000 {method 'acquire' of '_thread.lock' objects}\n",
      "        1    0.000    0.000    0.000    0.000 {method 'append' of 'collections.deque' objects}\n",
      "        1    0.000    0.000    0.000    0.000 {method 'disable' of '_lsprof.Profiler' objects}\n",
      "        2    0.000    0.000    0.000    0.000 {method 'write' of '_io.StringIO' objects}\n",
      "\n",
      "\n"
     ]
    }
   ],
   "source": [
    "import cProfile\n",
    "def sum(a,b):\n",
    "    print(a+b)\n",
    "\n",
    "cProfile.run('sum(45,34)')"
   ]
  },
  {
   "cell_type": "raw",
   "id": "d3ea4f80-a155-43af-815a-d242ef94ab57",
   "metadata": {},
   "source": [
    "52. Write a Python program to print to STDERR."
   ]
  },
  {
   "cell_type": "code",
   "execution_count": 1,
   "id": "e83bd08f-1c1e-4b90-b2d2-c42e9842e580",
   "metadata": {},
   "outputs": [
    {
     "name": "stderr",
     "output_type": "stream",
     "text": [
      "abc--efg--xyz\n"
     ]
    }
   ],
   "source": [
    "# Import the 'print_function' feature from the '__future__' module to enable Python 3-style print function.\n",
    "from __future__ import print_function\n",
    "\n",
    "# Import the 'sys' module, which provides access to some variables used or maintained by the interpreter.\n",
    "import sys\n",
    "\n",
    "# Define a custom 'eprint' function that prints to the standard error stream.\n",
    "def eprint(*args, **kwargs):\n",
    "    # Call the 'print' function with the provided arguments and keyword arguments.\n",
    "    # Use 'file=sys.stderr' to print to the standard error stream (stderr).\n",
    "    print(*args, file=sys.stderr, **kwargs)\n",
    "\n",
    "# Call the 'eprint' function with the specified arguments and separator.\n",
    "eprint(\"abc\", \"efg\", \"xyz\", sep=\"--\")\n"
   ]
  },
  {
   "cell_type": "code",
   "execution_count": null,
   "id": "cece4333-5deb-43dc-9c64-b4b45c8a7408",
   "metadata": {},
   "outputs": [],
   "source": []
  },
  {
   "cell_type": "raw",
   "id": "d7108c4c-c298-471a-9d0f-53671a2ba52c",
   "metadata": {},
   "source": [
    "53. Write a Python program to access environment variables."
   ]
  },
  {
   "cell_type": "code",
   "execution_count": 7,
   "id": "b72f446a-506b-4e07-b87d-c6e8174ea084",
   "metadata": {},
   "outputs": [
    {
     "name": "stdout",
     "output_type": "stream",
     "text": [
      "------------------------------\n",
      "environ({'ALLUSERSPROFILE': 'C:\\\\ProgramData', 'APPDATA': 'C:\\\\Users\\\\adity\\\\AppData\\\\Roaming', 'COMMONPROGRAMFILES': 'C:\\\\Program Files\\\\Common Files', 'COMMONPROGRAMFILES(X86)': 'C:\\\\Program Files (x86)\\\\Common Files', 'COMMONPROGRAMW6432': 'C:\\\\Program Files\\\\Common Files', 'COMPUTERNAME': 'ADITYA08', 'COMSPEC': 'C:\\\\WINDOWS\\\\system32\\\\cmd.exe', 'DRIVERDATA': 'C:\\\\Windows\\\\System32\\\\Drivers\\\\DriverData', 'EFC_22564': '1', 'FPS_BROWSER_APP_PROFILE_STRING': 'Internet Explorer', 'FPS_BROWSER_USER_PROFILE_STRING': 'Default', 'HOMEDRIVE': 'C:', 'HOMEPATH': '\\\\Users\\\\adity', 'INTELLIJ IDEA COMMUNITY EDITION': 'C:\\\\Program Files\\\\JetBrains\\\\IntelliJ IDEA Community Edition 2022.2.3\\\\bin;', 'LOCALAPPDATA': 'C:\\\\Users\\\\adity\\\\AppData\\\\Local', 'LOGONSERVER': '\\\\\\\\ADITYA08', 'NUMBER_OF_PROCESSORS': '16', 'ONEDRIVE': 'C:\\\\Users\\\\adity\\\\OneDrive', 'ONEDRIVECONSUMER': 'C:\\\\Users\\\\adity\\\\OneDrive', 'OS': 'Windows_NT', 'PATH': 'C:\\\\Program Files\\\\Common Files\\\\Oracle\\\\Java\\\\javapath;C:\\\\Program Files (x86)\\\\Common Files\\\\Oracle\\\\Java\\\\javapath;C:\\\\WINDOWS\\\\system32;C:\\\\WINDOWS;C:\\\\WINDOWS\\\\System32\\\\Wbem;C:\\\\WINDOWS\\\\System32\\\\WindowsPowerShell\\\\v1.0\\\\;C:\\\\WINDOWS\\\\System32\\\\OpenSSH\\\\;C:\\\\Program Files\\\\MySQL\\\\MySQL Server 8.0\\\\bin;C:\\\\Users\\\\adity\\\\anaconda3;C:\\\\Users\\\\adity\\\\anaconda3\\\\python.exe;C:\\\\Users\\\\adity\\\\anaconda3\\\\Scripts;C:\\\\Users\\\\adity\\\\anaconda3\\\\Scripts\\\\conda.exe;C:\\\\Program Files\\\\Kotlin\\\\kotlinc\\\\bin;C:\\\\Program Files\\\\MySQL\\\\MySQL Shell 8.0\\\\bin\\\\;C:\\\\Users\\\\adity\\\\AppData\\\\Local\\\\Programs\\\\Microsoft VS Code\\\\bin', 'PATHEXT': '.COM;.EXE;.BAT;.CMD;.VBS;.VBE;.JS;.JSE;.WSF;.WSH;.MSC', 'PHP': 'C:\\\\\\\\xampp\\\\\\\\php\\\\\\\\php.exe', 'PROCESSOR_ARCHITECTURE': 'AMD64', 'PROCESSOR_IDENTIFIER': 'Intel64 Family 6 Model 154 Stepping 3, GenuineIntel', 'PROCESSOR_LEVEL': '6', 'PROCESSOR_REVISION': '9a03', 'PROGRAMDATA': 'C:\\\\ProgramData', 'PROGRAMFILES': 'C:\\\\Program Files', 'PROGRAMFILES(X86)': 'C:\\\\Program Files (x86)', 'PROGRAMW6432': 'C:\\\\Program Files', 'PROMPT': '$P$G', 'PSMODULEPATH': 'C:\\\\Program Files\\\\WindowsPowerShell\\\\Modules;C:\\\\WINDOWS\\\\system32\\\\WindowsPowerShell\\\\v1.0\\\\Modules', 'PUBLIC': 'C:\\\\Users\\\\Public', 'SESSIONNAME': 'Console', 'SYSTEMDRIVE': 'C:', 'SYSTEMROOT': 'C:\\\\WINDOWS', 'TEMP': 'C:\\\\Users\\\\adity\\\\AppData\\\\Local\\\\Temp', 'TMP': 'C:\\\\Users\\\\adity\\\\AppData\\\\Local\\\\Temp', 'USERDOMAIN': 'ADITYA08', 'USERDOMAIN_ROAMINGPROFILE': 'ADITYA08', 'USERNAME': 'adity', 'USERPROFILE': 'C:\\\\Users\\\\adity', 'WINDIR': 'C:\\\\WINDOWS', 'ZES_ENABLE_SYSMAN': '1', 'PYDEVD_USE_FRAME_EVAL': 'NO', 'JPY_SESSION_NAME': 'C:\\\\Users\\\\adity\\\\W3resource\\\\41-60 questions.ipynb', 'JPY_INTERRUPT_EVENT': '4244', 'IPY_INTERRUPT_EVENT': '4244', 'JPY_PARENT_PID': '4296', 'TERM': 'xterm-color', 'CLICOLOR': '1', 'FORCE_COLOR': '1', 'CLICOLOR_FORCE': '1', 'PAGER': 'cat', 'GIT_PAGER': 'cat', 'MPLBACKEND': 'module://matplotlib_inline.backend_inline'})\n",
      "------------------------------\n",
      "C:\\Program Files\\Common Files\\Oracle\\Java\\javapath;C:\\Program Files (x86)\\Common Files\\Oracle\\Java\\javapath;C:\\WINDOWS\\system32;C:\\WINDOWS;C:\\WINDOWS\\System32\\Wbem;C:\\WINDOWS\\System32\\WindowsPowerShell\\v1.0\\;C:\\WINDOWS\\System32\\OpenSSH\\;C:\\Program Files\\MySQL\\MySQL Server 8.0\\bin;C:\\Users\\adity\\anaconda3;C:\\Users\\adity\\anaconda3\\python.exe;C:\\Users\\adity\\anaconda3\\Scripts;C:\\Users\\adity\\anaconda3\\Scripts\\conda.exe;C:\\Program Files\\Kotlin\\kotlinc\\bin;C:\\Program Files\\MySQL\\MySQL Shell 8.0\\bin\\;C:\\Users\\adity\\AppData\\Local\\Programs\\Microsoft VS Code\\bin\n"
     ]
    }
   ],
   "source": [
    "import os\n",
    "print(\"------------------------------\")\n",
    "print(os.environ)#environment varibale\n",
    "print(\"------------------------------\")\n",
    "print(os.environ['PATH'])#PATH environment varibales"
   ]
  },
  {
   "cell_type": "code",
   "execution_count": null,
   "id": "73a95dcb-a93b-4820-9bee-1c120b42e85f",
   "metadata": {},
   "outputs": [],
   "source": []
  },
  {
   "cell_type": "raw",
   "id": "ba6cddf7-4c62-4ee5-a439-ab268cfb01bf",
   "metadata": {},
   "source": [
    "54. Write a Python program to get the current username."
   ]
  },
  {
   "cell_type": "code",
   "execution_count": 8,
   "id": "d28d1c05-dfdb-4894-aa25-76467174071e",
   "metadata": {},
   "outputs": [
    {
     "name": "stdout",
     "output_type": "stream",
     "text": [
      "adity\n"
     ]
    }
   ],
   "source": [
    "# Import the 'getpass' module to access user-related functionality, including getting the current username.\n",
    "import getpass\n",
    "\n",
    "# Use the 'getuser()' function from the 'getpass' module to retrieve the current username.\n",
    "# Then, print the username to the console.\n",
    "print(getpass.getuser())\n"
   ]
  },
  {
   "cell_type": "code",
   "execution_count": null,
   "id": "5eba679d-5779-4bee-920a-4ee7f274ca85",
   "metadata": {},
   "outputs": [],
   "source": []
  },
  {
   "cell_type": "raw",
   "id": "213a004f-6b32-4877-9e32-0fad84f09646",
   "metadata": {},
   "source": [
    "55. Write a Python program to find local IP addresses using Python's stdlib."
   ]
  },
  {
   "cell_type": "code",
   "execution_count": 9,
   "id": "c2fb68d6-53b9-490f-9058-d913a6de33e3",
   "metadata": {},
   "outputs": [
    {
     "name": "stdout",
     "output_type": "stream",
     "text": [
      "172.39.1.145\n"
     ]
    }
   ],
   "source": [
    "# Import the 'socket' module to work with network-related functions.\n",
    "import socket\n",
    "\n",
    "# The following code retrieves the local IP address of the current machine:\n",
    "# 1. Use 'socket.gethostname()' to get the local hostname.\n",
    "# 2. Use 'socket.gethostbyname_ex()' to get a list of IP addresses associated with the hostname.\n",
    "# 3. Filter the list to exclude any IP addresses starting with \"127.\" (loopback addresses).\n",
    "# 4. Extract the first IP address (if available) from the filtered list.\n",
    "# 5. Print the obtained IP address to the console.\n",
    "\n",
    "# Step 1: Get the local hostname.\n",
    "local_hostname = socket.gethostname()\n",
    "\n",
    "# Step 2: Get a list of IP addresses associated with the hostname.\n",
    "ip_addresses = socket.gethostbyname_ex(local_hostname)[2]\n",
    "\n",
    "# Step 3: Filter out loopback addresses (IPs starting with \"127.\").\n",
    "filtered_ips = [ip for ip in ip_addresses if not ip.startswith(\"127.\")]\n",
    "\n",
    "# Step 4: Extract the first IP address (if available) from the filtered list.\n",
    "first_ip = filtered_ips[:1]\n",
    "\n",
    "# Step 5: Print the obtained IP address to the console.\n",
    "print(first_ip[0])\n"
   ]
  },
  {
   "cell_type": "code",
   "execution_count": null,
   "id": "daa2538a-1632-4208-bc14-96763d83be61",
   "metadata": {},
   "outputs": [],
   "source": []
  },
  {
   "cell_type": "raw",
   "id": "69cb63f3-b9c2-4c95-a380-b631f406c4d0",
   "metadata": {},
   "source": [
    "56. Write a Python program to get the height and width of the console window."
   ]
  },
  {
   "cell_type": "markdown",
   "id": "8ea3a2b2-e82e-4658-a14e-c730241a6282",
   "metadata": {},
   "source": [
    "# Import necessary modules for working with the terminal size.\n",
    "!pip install fcntl\n",
    "import fcntl\n",
    "import termios\n",
    "import struct\n",
    "\n",
    "# Define a function named 'terminal_size' to retrieve the terminal size.\n",
    "def terminal_size():\n",
    "    # Use 'fcntl' and 'termios' to fetch terminal-related information, including size.\n",
    "    # This code queries the terminal's width (columns) and height (rows).\n",
    "    # It uses the 'TIOCGWINSZ' ioctl command to get window size information.\n",
    "\n",
    "    # 1. Open file descriptor 0 (stdin).\n",
    "    # 2. Call 'fcntl.ioctl' with 'TIOCGWINSZ' to fetch window size information.\n",
    "    # 3. Unpack the received information into 'th' (height), 'tw' (width), 'hp' (horizontal pixel size), and 'wp' (vertical pixel size).\n",
    "    th, tw, hp, wp = struct.unpack('HHHH', fcntl.ioctl(0, termios.TIOCGWINSZ, struct.pack('HHHH', 0, 0, 0, 0)))\n",
    "\n",
    "    # Return the terminal width and height.\n",
    "    return tw, th\n",
    "\n",
    "# Call the 'terminal_size' function to get the terminal size and print the result.\n",
    "print('Number of columns and Rows: ', terminal_size())\n"
   ]
  },
  {
   "cell_type": "code",
   "execution_count": null,
   "id": "2984e510-ae11-4131-8754-85b9f3ae5246",
   "metadata": {},
   "outputs": [],
   "source": []
  },
  {
   "cell_type": "raw",
   "id": "bd92bd34-3320-4b3e-9d4d-cb998155f54d",
   "metadata": {},
   "source": [
    "57. Write a Python program to get the execution time of a Python method."
   ]
  },
  {
   "cell_type": "code",
   "execution_count": 14,
   "id": "6131898c-3e5e-426b-b99a-20c292b0d2f6",
   "metadata": {},
   "outputs": [
    {
     "name": "stdout",
     "output_type": "stream",
     "text": [
      "\n",
      "Time to sum of 1 to 5 and required time to calculate is: (15, 0.0)\n"
     ]
    }
   ],
   "source": [
    "# Import the 'time' module to work with time-related functions.\n",
    "import time\n",
    "\n",
    "# Define a function named 'sum_of_n_numbers' that calculates the sum of the first 'n' natural numbers.\n",
    "def sum_of_n_numbers(n):\n",
    "    # Record the current time before the calculation.\n",
    "    start_time = time.time()\n",
    "\n",
    "    # Initialize a variable 's' to store the sum.\n",
    "    s = 0\n",
    "\n",
    "    # Loop through numbers from 1 to 'n' and accumulate the sum.\n",
    "    for i in range(1, n + 1):\n",
    "        s = s + i\n",
    "\n",
    "    # Record the current time after the calculation.\n",
    "    end_time = time.time()\n",
    "\n",
    "    # Return both the calculated sum and the time taken for the calculation.\n",
    "    return s, end_time - start_time\n",
    "\n",
    "# Define the value of 'n' as 5.\n",
    "n = 5\n",
    "\n",
    "# Print the result, including the time taken to calculate the sum.\n",
    "print(\"\\nTime to sum of 1 to\", n, \"and required time to calculate is:\", sum_of_n_numbers(n))\n"
   ]
  },
  {
   "cell_type": "code",
   "execution_count": null,
   "id": "1ecc8be0-13fd-4595-91ee-8a1cc6af4e65",
   "metadata": {},
   "outputs": [],
   "source": []
  },
  {
   "cell_type": "raw",
   "id": "bd822e9e-13e6-48b0-9533-1cb7b45ee1b7",
   "metadata": {},
   "source": [
    "58. Write a Python program to sum the first n positive integers."
   ]
  },
  {
   "cell_type": "code",
   "execution_count": 3,
   "id": "f34d26f2-69c5-4597-9c92-b011c93a8e22",
   "metadata": {},
   "outputs": [
    {
     "data": {
      "text/plain": [
       "6"
      ]
     },
     "execution_count": 3,
     "metadata": {},
     "output_type": "execute_result"
    }
   ],
   "source": [
    "def sum(n):\n",
    "    cnt=0\n",
    "    for i in range(1,n+1):\n",
    "        cnt=cnt+i\n",
    "    return cnt\n",
    "sum(3)"
   ]
  },
  {
   "cell_type": "code",
   "execution_count": 8,
   "id": "5f6695c8-e49f-4cd1-ba9e-6a810db6e593",
   "metadata": {},
   "outputs": [
    {
     "name": "stdin",
     "output_type": "stream",
     "text": [
      "enter the no upto  3\n"
     ]
    },
    {
     "data": {
      "text/plain": [
       "6"
      ]
     },
     "execution_count": 8,
     "metadata": {},
     "output_type": "execute_result"
    }
   ],
   "source": [
    "def user():\n",
    "    cnt=0\n",
    "    for i in range(1,n+1):\n",
    "        cnt=cnt+i\n",
    "    return cnt\n",
    "\n",
    "n=int(input(\"enter the no upto \"))\n",
    "user()"
   ]
  },
  {
   "cell_type": "code",
   "execution_count": null,
   "id": "518da672-cd68-4fd0-8f96-ecf11bb646b9",
   "metadata": {},
   "outputs": [],
   "source": []
  },
  {
   "cell_type": "raw",
   "id": "72b460f4-9da9-446a-bad8-f1bf8c23d239",
   "metadata": {},
   "source": [
    "59. Write a Python program to convert height (in feet and inches) to centimeters."
   ]
  },
  {
   "cell_type": "code",
   "execution_count": 9,
   "id": "64d18870-6faf-46eb-a6ea-9eca324a6418",
   "metadata": {},
   "outputs": [
    {
     "name": "stdout",
     "output_type": "stream",
     "text": [
      "Input your height: \n"
     ]
    },
    {
     "name": "stdin",
     "output_type": "stream",
     "text": [
      "Feet:  6\n",
      "Inches:  22\n"
     ]
    },
    {
     "name": "stdout",
     "output_type": "stream",
     "text": [
      "Your height is : 238 cm.\n"
     ]
    }
   ],
   "source": [
    "# Prompt the user to input their height.\n",
    "print(\"Input your height: \")\n",
    "\n",
    "# Read the feet part of the height and convert it to an integer.\n",
    "h_ft = int(input(\"Feet: \"))\n",
    "\n",
    "# Read the inches part of the height and convert it to an integer.\n",
    "h_inch = int(input(\"Inches: \"))\n",
    "\n",
    "# Convert the height from feet and inches to inches.\n",
    "h_inch += h_ft * 12\n",
    "\n",
    "# Calculate the height in centimeters by multiplying by the conversion factor (2.54).\n",
    "h_cm = round(h_inch * 2.54, 1)\n",
    "\n",
    "# Print the calculated height in centimeters.\n",
    "print(\"Your height is : %d cm.\" % h_cm)\n"
   ]
  },
  {
   "cell_type": "code",
   "execution_count": null,
   "id": "00306c44-a8b6-43ef-8efc-1b7d86d344f7",
   "metadata": {},
   "outputs": [],
   "source": []
  },
  {
   "cell_type": "raw",
   "id": "bbe48e4e-d5a2-4471-afdf-091a5c63043c",
   "metadata": {},
   "source": [
    "60. Write a Python program to calculate the hypotenuse of a right angled triangle."
   ]
  },
  {
   "cell_type": "code",
   "execution_count": null,
   "id": "31b45342-9193-49e1-89d7-50a48f2a920a",
   "metadata": {},
   "outputs": [],
   "source": [
    "# Import the sqrt function from the math module to calculate the square root.\n",
    "from math import sqrt\n",
    "\n",
    "# Prompt the user to input the lengths of the shorter triangle sides.\n",
    "print(\"Input lengths of shorter triangle sides:\")\n",
    "\n",
    "# Read and convert the input for side 'a' to a floating-point number.\n",
    "a = float(input(\"a: \"))\n",
    "\n",
    "# Read and convert the input for side 'b' to a floating-point number.\n",
    "b = float(input(\"b: \"))\n",
    "\n",
    "# Calculate the length of the hypotenuse using the Pythagorean theorem.\n",
    "c = sqrt(a**2 + b**2)\n",
    "\n",
    "# Print the calculated length of the hypotenuse.\n",
    "print(\"The length of the hypotenuse is:\", c)\n"
   ]
  },
  {
   "cell_type": "code",
   "execution_count": null,
   "id": "858444a2-c6c9-4e81-822c-2aaeea9dbaf7",
   "metadata": {},
   "outputs": [],
   "source": []
  },
  {
   "cell_type": "code",
   "execution_count": null,
   "id": "83af382a-6a4f-4a4c-a557-04c7ffc91998",
   "metadata": {},
   "outputs": [],
   "source": []
  },
  {
   "cell_type": "code",
   "execution_count": null,
   "id": "fe8138bd-b819-4eb6-b935-812301a7a90d",
   "metadata": {},
   "outputs": [],
   "source": []
  },
  {
   "cell_type": "code",
   "execution_count": null,
   "id": "c8ef188a-63ac-4889-bc6e-94e8cadbd944",
   "metadata": {},
   "outputs": [],
   "source": []
  },
  {
   "cell_type": "code",
   "execution_count": null,
   "id": "731d32bf-3397-44b2-8b8d-ee4667f9d7ba",
   "metadata": {},
   "outputs": [],
   "source": []
  },
  {
   "cell_type": "code",
   "execution_count": null,
   "id": "b88aabef-bb8f-4ab0-bb86-aa4aecb010de",
   "metadata": {},
   "outputs": [],
   "source": []
  },
  {
   "cell_type": "code",
   "execution_count": null,
   "id": "22103146-9d2b-4cd6-8861-85b2297d6b4b",
   "metadata": {},
   "outputs": [],
   "source": []
  },
  {
   "cell_type": "code",
   "execution_count": null,
   "id": "f185c14e-ee21-4019-b0cf-20abd3ec65c3",
   "metadata": {},
   "outputs": [],
   "source": []
  }
 ],
 "metadata": {
  "kernelspec": {
   "display_name": "Python 3 (ipykernel)",
   "language": "python",
   "name": "python3"
  },
  "language_info": {
   "codemirror_mode": {
    "name": "ipython",
    "version": 3
   },
   "file_extension": ".py",
   "mimetype": "text/x-python",
   "name": "python",
   "nbconvert_exporter": "python",
   "pygments_lexer": "ipython3",
   "version": "3.11.5"
  }
 },
 "nbformat": 4,
 "nbformat_minor": 5
}
